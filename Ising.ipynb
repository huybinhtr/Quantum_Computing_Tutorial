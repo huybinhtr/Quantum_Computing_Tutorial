{
 "cells": [
  {
   "cell_type": "markdown",
   "metadata": {},
   "source": [
    "### Phase 1: Ising Model\n",
    "\n",
    "$$H = \\sum_{i=1}^{N} a_i X_i + \\sum_{i=1}^{N} \\sum_{j=1}^{i-1} J_{ij} Z_i Z_j\n",
    "$$"
   ]
  },
  {
   "cell_type": "markdown",
   "metadata": {},
   "source": [
    "#### Step 1: generate the Ising Model frim the Obs"
   ]
  },
  {
   "cell_type": "code",
   "execution_count": 1,
   "metadata": {},
   "outputs": [],
   "source": [
    "import numpy as np\n",
    "from qat.core import Observable, Term\n",
    "\n",
    "def ising(N):\n",
    "    np.random.seed(123)  \n",
    "\n",
    "    terms = []\n",
    "\n",
    "    # Generate random coefficients for the transverse field term (X)\n",
    "    a_coefficients = np.random.random(N)\n",
    "    for i in range(N):\n",
    "        term = Term(coefficient=a_coefficients[i], pauli_op=\"X\", qbits=[i])\n",
    "        terms.append(term)\n",
    "\n",
    "    # Generate random coefficients for the interaction term (ZZ)\n",
    "    J_coefficients = np.random.random((N, N))\n",
    "    for i in range(N):\n",
    "        for j in range(i):\n",
    "            if i != j:  # avoid duplicate terms\n",
    "                term = Term(coefficient=J_coefficients[i, j], pauli_op=\"ZZ\", qbits=[i, j])\n",
    "                terms.append(term)\n",
    "    ising = Observable(N, pauli_terms=terms, constant_coeff=0.0)\n",
    "    return ising\n"
   ]
  },
  {
   "cell_type": "code",
   "execution_count": 2,
   "metadata": {},
   "outputs": [
    {
     "name": "stdout",
     "output_type": "stream",
     "text": [
      "Transverse Ising Model: 0.6964691855978616 * (X|[0]) +\n",
      "0.28613933495037946 * (X|[1]) +\n",
      "0.2268514535642031 * (X|[2]) +\n",
      "0.5513147690828912 * (X|[3]) +\n",
      "0.48093190148436094 * (ZZ|[1, 0]) +\n",
      "0.4385722446796244 * (ZZ|[2, 0]) +\n",
      "0.05967789660956835 * (ZZ|[2, 1]) +\n",
      "0.18249173045349998 * (ZZ|[3, 0]) +\n",
      "0.17545175614749253 * (ZZ|[3, 1]) +\n",
      "0.5315513738418384 * (ZZ|[3, 2])\n"
     ]
    }
   ],
   "source": [
    "model = ising(4) \n",
    "print(\"Transverse Ising Model:\", model)"
   ]
  },
  {
   "cell_type": "code",
   "execution_count": 3,
   "metadata": {},
   "outputs": [
    {
     "name": "stdout",
     "output_type": "stream",
     "text": [
      "[Term(_coeff=TNumber(is_abstract=False, type=1, int_p=None, double_p=0.6964691855978616, string_p=None, matrix_p=None, serialized_p=None, complex_p=None), op='X', qbits=[0], _do_validity_check=True), Term(_coeff=TNumber(is_abstract=False, type=1, int_p=None, double_p=0.28613933495037946, string_p=None, matrix_p=None, serialized_p=None, complex_p=None), op='X', qbits=[1], _do_validity_check=True), Term(_coeff=TNumber(is_abstract=False, type=1, int_p=None, double_p=0.2268514535642031, string_p=None, matrix_p=None, serialized_p=None, complex_p=None), op='X', qbits=[2], _do_validity_check=True), Term(_coeff=TNumber(is_abstract=False, type=1, int_p=None, double_p=0.5513147690828912, string_p=None, matrix_p=None, serialized_p=None, complex_p=None), op='X', qbits=[3], _do_validity_check=True), Term(_coeff=TNumber(is_abstract=False, type=1, int_p=None, double_p=0.48093190148436094, string_p=None, matrix_p=None, serialized_p=None, complex_p=None), op='ZZ', qbits=[1, 0], _do_validity_check=True), Term(_coeff=TNumber(is_abstract=False, type=1, int_p=None, double_p=0.4385722446796244, string_p=None, matrix_p=None, serialized_p=None, complex_p=None), op='ZZ', qbits=[2, 0], _do_validity_check=True), Term(_coeff=TNumber(is_abstract=False, type=1, int_p=None, double_p=0.05967789660956835, string_p=None, matrix_p=None, serialized_p=None, complex_p=None), op='ZZ', qbits=[2, 1], _do_validity_check=True), Term(_coeff=TNumber(is_abstract=False, type=1, int_p=None, double_p=0.18249173045349998, string_p=None, matrix_p=None, serialized_p=None, complex_p=None), op='ZZ', qbits=[3, 0], _do_validity_check=True), Term(_coeff=TNumber(is_abstract=False, type=1, int_p=None, double_p=0.17545175614749253, string_p=None, matrix_p=None, serialized_p=None, complex_p=None), op='ZZ', qbits=[3, 1], _do_validity_check=True), Term(_coeff=TNumber(is_abstract=False, type=1, int_p=None, double_p=0.5315513738418384, string_p=None, matrix_p=None, serialized_p=None, complex_p=None), op='ZZ', qbits=[3, 2], _do_validity_check=True)]\n"
     ]
    }
   ],
   "source": [
    "print(model.terms)"
   ]
  },
  {
   "cell_type": "code",
   "execution_count": 4,
   "metadata": {},
   "outputs": [
    {
     "name": "stdout",
     "output_type": "stream",
     "text": [
      "4\n"
     ]
    }
   ],
   "source": [
    "print(model.nbqbits)"
   ]
  },
  {
   "cell_type": "code",
   "execution_count": 5,
   "metadata": {},
   "outputs": [
    {
     "name": "stdout",
     "output_type": "stream",
     "text": [
      "<bound method Observable.to_matrix of Observable(terms=[Term(_coeff=TNumber(is_abstract=False, type=1, int_p=None, double_p=0.6964691855978616, string_p=None, matrix_p=None, serialized_p=None, complex_p=None), op='X', qbits=[0], _do_validity_check=True), Term(_coeff=TNumber(is_abstract=False, type=1, int_p=None, double_p=0.28613933495037946, string_p=None, matrix_p=None, serialized_p=None, complex_p=None), op='X', qbits=[1], _do_validity_check=True), Term(_coeff=TNumber(is_abstract=False, type=1, int_p=None, double_p=0.2268514535642031, string_p=None, matrix_p=None, serialized_p=None, complex_p=None), op='X', qbits=[2], _do_validity_check=True), Term(_coeff=TNumber(is_abstract=False, type=1, int_p=None, double_p=0.5513147690828912, string_p=None, matrix_p=None, serialized_p=None, complex_p=None), op='X', qbits=[3], _do_validity_check=True), Term(_coeff=TNumber(is_abstract=False, type=1, int_p=None, double_p=0.48093190148436094, string_p=None, matrix_p=None, serialized_p=None, complex_p=None), op='ZZ', qbits=[1, 0], _do_validity_check=True), Term(_coeff=TNumber(is_abstract=False, type=1, int_p=None, double_p=0.4385722446796244, string_p=None, matrix_p=None, serialized_p=None, complex_p=None), op='ZZ', qbits=[2, 0], _do_validity_check=True), Term(_coeff=TNumber(is_abstract=False, type=1, int_p=None, double_p=0.05967789660956835, string_p=None, matrix_p=None, serialized_p=None, complex_p=None), op='ZZ', qbits=[2, 1], _do_validity_check=True), Term(_coeff=TNumber(is_abstract=False, type=1, int_p=None, double_p=0.18249173045349998, string_p=None, matrix_p=None, serialized_p=None, complex_p=None), op='ZZ', qbits=[3, 0], _do_validity_check=True), Term(_coeff=TNumber(is_abstract=False, type=1, int_p=None, double_p=0.17545175614749253, string_p=None, matrix_p=None, serialized_p=None, complex_p=None), op='ZZ', qbits=[3, 1], _do_validity_check=True), Term(_coeff=TNumber(is_abstract=False, type=1, int_p=None, double_p=0.5315513738418384, string_p=None, matrix_p=None, serialized_p=None, complex_p=None), op='ZZ', qbits=[3, 2], _do_validity_check=True)], nbqbits=4, constant_coeff=0.0, ising=None)>\n"
     ]
    }
   ],
   "source": [
    "print(model.to_matrix)"
   ]
  },
  {
   "cell_type": "code",
   "execution_count": 6,
   "metadata": {},
   "outputs": [
    {
     "name": "stdout",
     "output_type": "stream",
     "text": [
      "0.0\n"
     ]
    }
   ],
   "source": [
    "print(model.constant_coeff)"
   ]
  },
  {
   "cell_type": "markdown",
   "metadata": {},
   "source": [
    "#ising_matrix = model.get_matrix(sparse=True)\n",
    "\n",
    "Basically, the observable has no attribute to the Matrix representation\n"
   ]
  },
  {
   "cell_type": "markdown",
   "metadata": {},
   "source": [
    "#### Step 2: Creat 4 initial states manually from creating the circuit gates\n",
    "$$\\begin{array}{c}|0000\\rangle \\\\ |0001\\rangle \\\\ |0010\\rangle \\\\ |0011\\rangle \\end{array}$$"
   ]
  },
  {
   "cell_type": "code",
   "execution_count": 7,
   "metadata": {},
   "outputs": [],
   "source": [
    "from qat.lang import Program, H, X, Y, Z, I, PH, S, T, RX, RY, RZ, CNOT, ISWAP, SQRTSWAP, CCNOT, SWAP\n",
    "\n",
    "from qat.interop.qiskit import qlm_to_qiskit\n",
    "import matplotlib as mpl\n",
    "import numpy as np\n",
    "\n"
   ]
  },
  {
   "cell_type": "code",
   "execution_count": 8,
   "metadata": {},
   "outputs": [
    {
     "data": {
      "image/png": "[encoded data removed]",
      "text/plain": [
       "<Figure size 556.358x451.5 with 1 Axes>"
      ]
     },
     "execution_count": 8,
     "metadata": {},
     "output_type": "execute_result"
    }
   ],
   "source": [
    "# this is 0000\n",
    "nqbits = model.nbqbits\n",
    "prog = Program()\n",
    "reg = prog.qalloc(nqbits) \n",
    "\n",
    "for i in range(nqbits):\n",
    "    prog.apply(I, reg[i])\n",
    "\n",
    "circ0 = prog.to_circ()\n",
    "\n",
    "ckt = qlm_to_qiskit(circ0)\n",
    "ckt.draw(output='mpl')\n"
   ]
  },
  {
   "cell_type": "code",
   "execution_count": 9,
   "metadata": {},
   "outputs": [
    {
     "name": "stdout",
     "output_type": "stream",
     "text": [
      "\n",
      "This initial state is:\n",
      "|0000>\n"
     ]
    }
   ],
   "source": [
    "from qat.qpus import get_default_qpu\n",
    "\n",
    "qpu = get_default_qpu()\n",
    "job_0 = circ0.to_job(nbshots=0)\n",
    "result_0 = qpu.submit(job_0)\n",
    "\n",
    "print(\"\\nThis initial state is:\")\n",
    "for s in result_0:\n",
    "    print(s.state) #"
   ]
  },
  {
   "cell_type": "code",
   "execution_count": 10,
   "metadata": {},
   "outputs": [
    {
     "name": "stdout",
     "output_type": "stream",
     "text": [
      "Exact number of ones: 1.8686769032163846\n"
     ]
    }
   ],
   "source": [
    "from qat.qpus import PyLinalg\n",
    "from qat.plugins import ObservableSplitter\n",
    "\n",
    "job_0 = circ0.to_job(\"OBS\", observable=model)\n",
    "print(\"Exact number of ones:\", qpu.submit(job_0).value)"
   ]
  },
  {
   "cell_type": "code",
   "execution_count": 11,
   "metadata": {},
   "outputs": [],
   "source": [
    "job_0 = circ0.to_job(nbshots=0)\n",
    "result_0 = qpu.submit(job_0)\n",
    "\n",
    "states_0 = [s.state for s in result_0]\n",
    "measurements_0 = [qpu.submit(circ0.to_job(\"OBS\", observable=model)).value] * len(states_0)\n",
    "state_labels_0 = [\"0000\"] * len(states_0)"
   ]
  },
  {
   "cell_type": "code",
   "execution_count": 12,
   "metadata": {},
   "outputs": [
    {
     "data": {
      "image/png": "[encoded data removed]",
      "text/plain": [
       "<Figure size 556.56x451.5 with 1 Axes>"
      ]
     },
     "execution_count": 12,
     "metadata": {},
     "output_type": "execute_result"
    }
   ],
   "source": [
    "# this is 0001\n",
    "nqbits = model.nbqbits\n",
    "prog = Program()\n",
    "reg = prog.qalloc(nqbits) \n",
    "\n",
    "prog.apply(X, reg[nqbits-1])\n",
    "\n",
    "circ1 = prog.to_circ()\n",
    "\n",
    "ckt = qlm_to_qiskit(circ1)\n",
    "ckt.draw(output='mpl')"
   ]
  },
  {
   "cell_type": "code",
   "execution_count": 13,
   "metadata": {},
   "outputs": [
    {
     "name": "stdout",
     "output_type": "stream",
     "text": [
      "\n",
      "This initial state is:\n",
      "|0001>\n"
     ]
    }
   ],
   "source": [
    "from qat.qpus import get_default_qpu\n",
    "\n",
    "qpu = get_default_qpu()\n",
    "job_1 = circ1.to_job(nbshots=1000)\n",
    "result_1 = qpu.submit(job_1)\n",
    "\n",
    "print(\"\\nThis initial state is:\")\n",
    "for s in result_1:\n",
    "    print(s.state) #s.amplitude"
   ]
  },
  {
   "cell_type": "code",
   "execution_count": 14,
   "metadata": {},
   "outputs": [
    {
     "name": "stdout",
     "output_type": "stream",
     "text": [
      "Exact number of ones: 0.08968718233072281\n"
     ]
    }
   ],
   "source": [
    "from qat.qpus import PyLinalg\n",
    "from qat.plugins import ObservableSplitter\n",
    "\n",
    "job_1 = circ1.to_job(\"OBS\", observable=model)\n",
    "print(\"Exact number of ones:\", qpu.submit(job_1).value)"
   ]
  },
  {
   "cell_type": "code",
   "execution_count": 15,
   "metadata": {},
   "outputs": [],
   "source": [
    "job_1 = circ1.to_job(nbshots=1000)\n",
    "result_1 = qpu.submit(job_1)\n",
    "\n",
    "states_1 = [s.state for s in result_1]\n",
    "measurements_1 = [qpu.submit(circ1.to_job(\"OBS\", observable=model)).value] * len(states_1)\n",
    "state_labels_1 = [\"0001\"] * len(states_1)"
   ]
  },
  {
   "cell_type": "code",
   "execution_count": 16,
   "metadata": {},
   "outputs": [
    {
     "data": {
      "image/png": "[encoded data removed]",
      "text/plain": [
       "<Figure size 473.151x451.5 with 1 Axes>"
      ]
     },
     "execution_count": 16,
     "metadata": {},
     "output_type": "execute_result"
    }
   ],
   "source": [
    "# this is 0010\n",
    "nqbits = model.nbqbits\n",
    "prog = Program()\n",
    "reg = prog.qalloc(nqbits) \n",
    "\n",
    "prog.apply(X, reg[nqbits-2])\n",
    "\n",
    "circ2 = prog.to_circ()\n",
    "\n",
    "ckt = qlm_to_qiskit(circ2)\n",
    "ckt.draw(output='mpl')"
   ]
  },
  {
   "cell_type": "code",
   "execution_count": 17,
   "metadata": {},
   "outputs": [
    {
     "name": "stdout",
     "output_type": "stream",
     "text": [
      "\n",
      "This initial state is:\n",
      "|0010>\n"
     ]
    }
   ],
   "source": [
    "from qat.qpus import get_default_qpu\n",
    "\n",
    "qpu = get_default_qpu()\n",
    "job_2 = circ2.to_job(nbshots=1000)\n",
    "result_2 = qpu.submit(job_2)\n",
    "\n",
    "print(\"\\nThis initial state is:\")\n",
    "for s in result_2:\n",
    "    print(s.state) #s.amplitude"
   ]
  },
  {
   "cell_type": "code",
   "execution_count": 18,
   "metadata": {},
   "outputs": [
    {
     "name": "stdout",
     "output_type": "stream",
     "text": [
      "Exact number of ones: -0.19092612704567768\n"
     ]
    }
   ],
   "source": [
    "from qat.qpus import PyLinalg\n",
    "from qat.plugins import ObservableSplitter\n",
    "\n",
    "job_2 = circ2.to_job(\"OBS\", observable=model)\n",
    "print(\"Exact number of ones:\", qpu.submit(job_2).value)"
   ]
  },
  {
   "cell_type": "code",
   "execution_count": 19,
   "metadata": {},
   "outputs": [],
   "source": [
    "# Example for state \"0010\"\n",
    "job_2 = circ2.to_job(nbshots=1000)\n",
    "result_2 = qpu.submit(job_2)\n",
    "\n",
    "states_2 = [s.state for s in result_2]\n",
    "measurements_2 = [qpu.submit(circ2.to_job(\"OBS\", observable=model)).value] * len(states_2)\n",
    "state_labels_2 = [\"0010\"] * len(states_2)"
   ]
  },
  {
   "cell_type": "code",
   "execution_count": 20,
   "metadata": {},
   "outputs": [
    {
     "data": {
      "image/png": "[encoded data removed]",
      "text/plain": [
       "<Figure size 556.762x451.5 with 1 Axes>"
      ]
     },
     "execution_count": 20,
     "metadata": {},
     "output_type": "execute_result"
    }
   ],
   "source": [
    "# this is 0011\n",
    "nqbits = model.nbqbits\n",
    "prog = Program()\n",
    "reg = prog.qalloc(nqbits) \n",
    "\n",
    "prog.apply(X, reg[nqbits-2])\n",
    "prog.apply(X, reg[nqbits-1])\n",
    "\n",
    "\n",
    "circ3 = prog.to_circ()\n",
    "\n",
    "ckt = qlm_to_qiskit(circ3)\n",
    "ckt.draw(output='mpl')"
   ]
  },
  {
   "cell_type": "code",
   "execution_count": 21,
   "metadata": {},
   "outputs": [
    {
     "name": "stdout",
     "output_type": "stream",
     "text": [
      "\n",
      "This initial state is:\n",
      "|0011>\n"
     ]
    }
   ],
   "source": [
    "from qat.qpus import get_default_qpu\n",
    "\n",
    "qpu = get_default_qpu()\n",
    "job_3 = circ3.to_job(nbshots=1000)\n",
    "result_3 = qpu.submit(job_3)\n",
    "\n",
    "print(\"\\nThis initial state is:\")\n",
    "for s in result_3:\n",
    "    print(s.state) #s.amplitude"
   ]
  },
  {
   "cell_type": "code",
   "execution_count": 22,
   "metadata": {},
   "outputs": [
    {
     "name": "stdout",
     "output_type": "stream",
     "text": [
      "Exact number of ones: 0.15628964743601403\n"
     ]
    }
   ],
   "source": [
    "from qat.qpus import PyLinalg\n",
    "from qat.plugins import ObservableSplitter\n",
    "\n",
    "job_3 = circ3.to_job(\"OBS\", observable=model)\n",
    "print(\"Exact number of ones:\", qpu.submit(job_3).value)"
   ]
  },
  {
   "cell_type": "code",
   "execution_count": 23,
   "metadata": {},
   "outputs": [],
   "source": [
    "states_3 = [s.state for s in result_3]\n",
    "measurements_3 = [qpu.submit(circ3.to_job(\"OBS\", observable=model)).value] * len(states_3)\n",
    "state_labels_3 = [\"0011\"] * len(states_3)\n"
   ]
  },
  {
   "cell_type": "code",
   "execution_count": 24,
   "metadata": {},
   "outputs": [
    {
     "data": {
      "image/png": "[encoded data removed]",
      "text/plain": [
       "<Figure size 473.151x451.5 with 1 Axes>"
      ]
     },
     "execution_count": 24,
     "metadata": {},
     "output_type": "execute_result"
    }
   ],
   "source": [
    "# this is 1100\n",
    "nqbits = model.nbqbits\n",
    "prog = Program()\n",
    "reg = prog.qalloc(nqbits) \n",
    "\n",
    "prog.apply(X, reg[nqbits-4])\n",
    "prog.apply(X, reg[nqbits-3])\n",
    "\n",
    "\n",
    "circ4 = prog.to_circ()\n",
    "\n",
    "ckt = qlm_to_qiskit(circ4)\n",
    "ckt.draw(output='mpl')"
   ]
  },
  {
   "cell_type": "code",
   "execution_count": 32,
   "metadata": {},
   "outputs": [
    {
     "name": "stdout",
     "output_type": "stream",
     "text": [
      "\n",
      "This initial state is:\n",
      "|1100>\n"
     ]
    }
   ],
   "source": [
    "from qat.qpus import get_default_qpu\n",
    "\n",
    "qpu = get_default_qpu()\n",
    "job_4 = circ4.to_job(nbshots=1000)\n",
    "result_4 = qpu.submit(job_4)\n",
    "\n",
    "print(\"\\nThis initial state is:\")\n",
    "for s in result_4:\n",
    "    print(s.state) #s.amplitude"
   ]
  },
  {
   "cell_type": "code",
   "execution_count": 33,
   "metadata": {},
   "outputs": [
    {
     "name": "stdout",
     "output_type": "stream",
     "text": [
      "Exact number of ones: 0.15628964743601403\n"
     ]
    }
   ],
   "source": [
    "from qat.qpus import PyLinalg\n",
    "from qat.plugins import ObservableSplitter\n",
    "\n",
    "job_4 = circ4.to_job(\"OBS\", observable=model)\n",
    "print(\"Exact number of ones:\", qpu.submit(job_4).value)"
   ]
  },
  {
   "cell_type": "code",
   "execution_count": 34,
   "metadata": {},
   "outputs": [],
   "source": [
    "states_4 = [s.state for s in result_4]\n",
    "measurements_4 = [qpu.submit(circ4.to_job(\"OBS\", observable=model)).value] * len(states_4)\n",
    "state_labels_4 = [\"0011\"] * len(states_4)"
   ]
  },
  {
   "cell_type": "markdown",
   "metadata": {},
   "source": [
    "#### Step3: Make the plot histogram for the comparsion"
   ]
  },
  {
   "cell_type": "code",
   "execution_count": 37,
   "metadata": {},
   "outputs": [
    {
     "data": {
      "image/png": "[encoded data removed]",
      "text/plain": [
       "<Figure size 1000x600 with 1 Axes>"
      ]
     },
     "metadata": {},
     "output_type": "display_data"
    }
   ],
   "source": [
    "import matplotlib.pyplot as plt\n",
    "\n",
    "# Function to plot a histogram for each initial state\n",
    "def plot_histogram(states, measurements, state_labels):\n",
    "    \"\"\"\n",
    "    Plot a histogram for each initial state.\n",
    "\n",
    "    Parameters:\n",
    "    - states: List of lists, where each inner list contains the states for one initial state.\n",
    "    - measurements: List of measurements corresponding to each initial state.\n",
    "    - state_labels: List of labels for each initial state.\n",
    "    \"\"\"\n",
    "\n",
    "    # Combine data\n",
    "    all_states = [str(state) for states_list in states for state in states_list]\n",
    "    all_measurements = [measurement for measurements_list in measurements for measurement in measurements_list]\n",
    "    all_state_labels = [label for label_list in state_labels for label in label_list]\n",
    "\n",
    "    plt.figure(figsize=(10, 6))\n",
    "\n",
    "    # Plot histogram\n",
    "    plt.bar(all_states, all_measurements, color='blue', alpha=0.7)\n",
    "\n",
    "    # Set labels and title\n",
    "    plt.xlabel(\"State\")\n",
    "    plt.ylabel(\"Energy\")\n",
    "    plt.title(\"Histogram for All Initial States for Ising Model\")\n",
    "    plt.xticks(rotation=45)  # Rotate x-axis labels for better visibility\n",
    "    plt.grid(axis='y', linestyle='--', alpha=0.7)\n",
    "    plt.tight_layout()  # Adjust layout for better spacing\n",
    "    plt.show()\n",
    "\n",
    "\n",
    "\n",
    "    # Show plot\n",
    "    plt.show()\n",
    "\n",
    "# Data collection for each initial state\n",
    "qpu = get_default_qpu()\n",
    "\n",
    "\n",
    "# Combine data\n",
    "states = [states_0, states_1, states_2, states_3, states_4]\n",
    "measurements = [measurements_0, measurements_1, measurements_2, measurements_3, measurements_4]\n",
    "state_labels = [state_labels_0, state_labels_1, state_labels_2, state_labels_3, state_labels_4]\n",
    "\n",
    "# Plot histogram for all initial states\n",
    "plot_histogram(states, measurements, state_labels)\n"
   ]
  },
  {
   "cell_type": "markdown",
   "metadata": {},
   "source": [
    "### Phase2: Create ansazt function"
   ]
  },
  {
   "cell_type": "code",
   "execution_count": 39,
   "metadata": {},
   "outputs": [],
   "source": [
    "from qat.lang.AQASM import Program, QRoutine, RY, CNOT, RX, Z, H, RZ\n",
    "\n",
    "def anz(nqbits):\n",
    "    prog = Program()\n",
    "    reg = prog.qalloc(nqbits)\n",
    "    theta = [prog.new_var(float, '\\\\theta_%s'%i)\n",
    "\n",
    "             for i in range(nqbits * 2)]\n",
    "    for ind in range(nqbits):\n",
    "        RZ(theta[ind])(reg[ind])\n",
    "        RY(theta[ind])(reg[ind])\n",
    "    \n",
    "    for qb in range(nqbits-1):\n",
    "        CNOT(reg[qb], reg[(qb+1)%nqbits])\n",
    "    \n",
    "    for ind in range(nqbits, 2*nqbits):\n",
    "        RY(theta[ind])(reg[ind - nqbits])\n",
    "        RZ(theta[ind])(reg[ind - nqbits])\n",
    "    \n",
    "    for qb in range(nqbits-1):\n",
    "        CNOT(reg[qb], reg[(qb+1)%nqbits])\n",
    "    \n",
    "    return  prog.to_circ()"
   ]
  },
  {
   "cell_type": "code",
   "execution_count": 40,
   "metadata": {},
   "outputs": [],
   "source": [
    "ind = np.random.uniform(0,np.pi/2) # make this type of distribution for the indication\n",
    "nqbits = model.nbqbits\n",
    "a = anz(nqbits, ind)"
   ]
  },
  {
   "cell_type": "markdown",
   "metadata": {},
   "source": [
    "### Phase 3: For small molecule ( take H2)"
   ]
  },
  {
   "cell_type": "code",
   "execution_count": 41,
   "metadata": {},
   "outputs": [],
   "source": [
    "import matplotlib.pyplot as plt\n",
    "import numpy as np\n",
    "from itertools import product\n",
    "\n",
    "from qat.qpus import get_default_qpu\n",
    "from qat.core import Batch, Job\n",
    "\n",
    "from qat.fermion.transforms import transform_to_jw_basis\n",
    "from qat.fermion.hamiltonians import make_embedded_model\n",
    "from qat.fermion.circuits import make_shallow_circ, make_ldca_circ\n",
    "\n",
    "from qat.fermion.chemistry.pyscf_tools import perform_pyscf_computation\n",
    "from qat.fermion.chemistry import MolecularHamiltonian, MoleculeInfo\n",
    "from qat.fermion.trotterisation import make_trotterisation_routine\n",
    "from qat.fermion.chemistry.ucc import construct_ucc_ansatz, guess_init_params, get_hf_ket, get_cluster_ops\n",
    "from qat.qpus import get_default_qpu\n",
    "\n",
    "from qat.plugins import ScipyMinimizePlugin, MultipleLaunchesAnalyzer"
   ]
  },
  {
   "cell_type": "code",
   "execution_count": 42,
   "metadata": {},
   "outputs": [],
   "source": [
    "from openvqe.common_files.qubit_pool import QubitPool\n",
    "from openvqe.common_files.molecule_factory import MoleculeFactory\n",
    "from openvqe.ucc_family.get_energy_ucc import EnergyUCC\n",
    "from qat.fermion.transforms import (get_jw_code, recode_integer)\n",
    "from qat.fermion.chemistry.pyscf_tools import perform_pyscf_computation"
   ]
  },
  {
   "cell_type": "code",
   "execution_count": 43,
   "metadata": {},
   "outputs": [],
   "source": [
    "from qat.fermion.chemistry.pyscf_tools import perform_pyscf_computation\n",
    "from qat.fermion.chemistry import MolecularHamiltonian, MoleculeInfo\n",
    "from qat.fermion.chemistry.ucc import guess_init_params, get_hf_ket, get_cluster_ops\n",
    "from qat.fermion.transforms import transform_to_jw_basis  # , transform_to_bk_basis, transform_to_parity_basis\n",
    "from qat.fermion.transforms import recode_integer, get_jw_code  # , get_bk_code, get_parity_code\n",
    "from qat.lang.AQASM import Program, X\n",
    "from qat.fermion.trotterisation import make_trotterisation_routine"
   ]
  },
  {
   "cell_type": "code",
   "execution_count": 44,
   "metadata": {},
   "outputs": [],
   "source": [
    "from qat.fermion import ElectronicStructureHamiltonian"
   ]
  },
  {
   "cell_type": "markdown",
   "metadata": {},
   "source": [
    "#### Step 1: Generate the molecule geometry "
   ]
  },
  {
   "cell_type": "code",
   "execution_count": 45,
   "metadata": {},
   "outputs": [],
   "source": [
    "def Molecule_Generator(name):\n",
    "    if name == \"H2\":\n",
    "        r = 0.75\n",
    "        geometry = [(\"H\", (0, 0, 0)), (\"H\", (0, 0, r))]\n",
    "        charge = 0\n",
    "        spin = 0\n",
    "        basis = \"sto-3g\"\n",
    "    \n",
    "    elif name == \"LiH\":\n",
    "        r = 1.45\n",
    "        geometry = [(\"Li\", (0, 0, 0)), (\"H\", (0, 0, r))]\n",
    "        charge = 0\n",
    "        spin = 0\n",
    "        basis = \"6-31g\"\n",
    "    \n",
    "    elif name == \"H4\":\n",
    "            # H4 Linear\n",
    "            r = 0.85\n",
    "            geometry = [\n",
    "                (\"H\", (0, 0, 0)),\n",
    "                (\"H\", (0, 0, 1 * r)),\n",
    "                (\"H\", (0, 0, 2 * r)),\n",
    "                (\"H\", (0, 0, 3 * r)),\n",
    "            ]\n",
    "            charge = 0\n",
    "            spin = 0\n",
    "            basis = \"sto-3g\"\n",
    "\n",
    "    \n",
    "    return r, geometry, charge, spin, basis"
   ]
  },
  {
   "cell_type": "code",
   "execution_count": 46,
   "metadata": {},
   "outputs": [],
   "source": [
    "Name = Molecule_Generator(\"H2\")"
   ]
  },
  {
   "cell_type": "code",
   "execution_count": 47,
   "metadata": {},
   "outputs": [
    {
     "name": "stderr",
     "output_type": "stream",
     "text": [
      "/home/huybinh/.local/lib/python3.10/site-packages/pyscf/dft/libxc.py:772: UserWarning: Since PySCF-2.3, B3LYP (and B3P86) are changed to the VWN-RPA variant, the same to the B3LYP functional in Gaussian and ORCA (issue 1480). To restore the VWN5 definition, you can put the setting \"B3LYP_WITH_VWN5 = True\" in pyscf_conf.py\n",
      "  warnings.warn('Since PySCF-2.3, B3LYP (and B3P86) are changed to the VWN-RPA variant, '\n"
     ]
    },
    {
     "name": "stdout",
     "output_type": "stream",
     "text": [
      "Number of electrons =  2\n",
      "Number of qubits before active space selection =  4\n",
      "Orbital energies =  [-0.57443656  0.66091005]\n",
      "Nuclear repulsion =  0.70556961456\n"
     ]
    }
   ],
   "source": [
    "r, geometry, charge, spin, basis = Name\n",
    "(\n",
    "    rdm1,\n",
    "    orbital_energies,\n",
    "    nuclear_repulsion,\n",
    "    n_elec,\n",
    "    one_body_integrals,\n",
    "    two_body_integrals,\n",
    "    info,\n",
    ") = perform_pyscf_computation(\n",
    "    geometry=geometry, basis=basis, spin=spin, charge=charge, run_fci=True\n",
    ")\n",
    "print(\"Number of electrons = \", n_elec)\n",
    "nqbits = rdm1.shape[0] * 2\n",
    "print(\"Number of qubits before active space selection = \", nqbits)\n",
    "# print(\"rdm1\", rdm1)\n",
    "# print(info)\n",
    "print(\"Orbital energies = \", orbital_energies)\n",
    "print(\"Nuclear repulsion = \", nuclear_repulsion)"
   ]
  },
  {
   "cell_type": "code",
   "execution_count": 49,
   "metadata": {},
   "outputs": [],
   "source": [
    "mol_h = MolecularHamiltonian(one_body_integrals, two_body_integrals, nuclear_repulsion)\n",
    "# Computation of the initial parameters\n",
    "theta_init = guess_init_params(\n",
    "    mol_h.two_body_integrals,\n",
    "    n_elec,\n",
    "    orbital_energies,\n",
    ")\n",
    "# Define the initial Hartree-Fock state\n",
    "ket_hf_init = get_hf_ket(n_elec, nqbits=nqbits)\n",
    "\n",
    "# Compute the cluster operators\n",
    "cluster_ops = get_cluster_ops(n_elec, nqbits=nqbits)\n",
    "\n",
    "\n",
    "# Compute the ElectronicStructureHamiltonian\n",
    "H = mol_h.get_electronic_hamiltonian()\n",
    "\n"
   ]
  },
  {
   "cell_type": "code",
   "execution_count": 50,
   "metadata": {},
   "outputs": [
    {
     "name": "stdout",
     "output_type": "stream",
     "text": [
      "(-0.10973055606700713+0j) * I^4 +\n",
      "(0.16821198673715726+0j) * (ZZ|[0, 1]) +\n",
      "(0.12005143072546025+0j) * (ZZ|[0, 2]) +\n",
      "(0.16549431486978644+0j) * (ZZ|[1, 2]) +\n",
      "(0.16549431486978644+0j) * (ZZ|[0, 3]) +\n",
      "(0.16988452027940376+0j) * (Z|[0]) +\n",
      "(0.12005143072546025+0j) * (ZZ|[1, 3]) +\n",
      "(0.16988452027940376+0j) * (Z|[1]) +\n",
      "(0.04544288414432621+0j) * (XYYX|[0, 1, 2, 3]) +\n",
      "(-0.04544288414432621+0j) * (XXYY|[0, 1, 2, 3]) +\n",
      "(-0.04544288414432621+0j) * (YYXX|[0, 1, 2, 3]) +\n",
      "(0.04544288414432621+0j) * (YXXY|[0, 1, 2, 3]) +\n",
      "(0.17395378776494128+0j) * (ZZ|[2, 3]) +\n",
      "(-0.21886306781219628+0j) * (Z|[2]) +\n",
      "(-0.21886306781219628+0j) * (Z|[3])\n"
     ]
    }
   ],
   "source": [
    "from qat.fermion.transforms import transform_to_jw_basis, transform_to_parity_basis, transform_to_bk_basis\n",
    "\n",
    "# Using the Jordan-Wigner transform\n",
    "hamiltonian_sp = transform_to_jw_basis(H)\n",
    "# Using the Bravyi-Kitaev transform\n",
    "# H_spin = transform_to_bk_basis(H)\n",
    "# Using the parity transform\n",
    "#H_spin = transform_to_parity_basis(H_fermion)\n",
    "print(hamiltonian_sp)"
   ]
  },
  {
   "cell_type": "markdown",
   "metadata": {},
   "source": [
    "#### Step 2: Get the eigenvalue and enginvector of the hamiltonian "
   ]
  },
  {
   "cell_type": "code",
   "execution_count": 52,
   "metadata": {},
   "outputs": [],
   "source": [
    "hamiltonian_matrix_sp = hamiltonian_sp.get_matrix(sparse=True)"
   ]
  },
  {
   "cell_type": "code",
   "execution_count": 70,
   "metadata": {},
   "outputs": [],
   "source": [
    "\n",
    "from scipy.sparse.linalg import eigsh\n",
    "eigval, eigvec = eigsh(hamiltonian_matrix_sp, k=2)"
   ]
  },
  {
   "cell_type": "code",
   "execution_count": 71,
   "metadata": {},
   "outputs": [
    {
     "name": "stdout",
     "output_type": "stream",
     "text": [
      "eigenvalues = [-1.13711707  0.9014838 ]\n"
     ]
    }
   ],
   "source": [
    "print(f\"eigenvalues = {eigval}\")"
   ]
  },
  {
   "cell_type": "code",
   "execution_count": 72,
   "metadata": {},
   "outputs": [
    {
     "name": "stdout",
     "output_type": "stream",
     "text": [
      "eigevectors = [[ 3.30252062e-16+2.32442898e-16j -1.15507390e-15-6.81201425e-16j]\n",
      " [-1.25312376e-16-3.79359902e-17j  1.69814505e-17+1.39975200e-17j]\n",
      " [ 1.33878041e-16-6.67273251e-17j -2.54348658e-17+1.95606195e-17j]\n",
      " [ 7.80812438e-02+8.38575621e-02j  1.48276447e-16-8.03718481e-17j]\n",
      " [ 1.06925546e-16+4.33800319e-17j  4.79354487e-17+1.48008064e-17j]\n",
      " [-5.57042689e-17-2.51677688e-17j -3.00593326e-17-1.66804271e-17j]\n",
      " [ 7.38506175e-17-8.25106152e-17j  1.49817634e-17-4.42055582e-17j]\n",
      " [ 9.74221649e-17-2.42361975e-16j  8.24109415e-17-7.84548643e-17j]\n",
      " [-2.79387636e-17+7.30645795e-17j -2.77146861e-17+1.29963668e-17j]\n",
      " [-3.99043999e-17-7.69909765e-17j  3.08265620e-17-3.15194978e-17j]\n",
      " [-7.38427436e-17-1.06932459e-16j -3.41957711e-17-3.57930106e-17j]\n",
      " [ 3.13610944e-17-6.16840736e-17j -1.22330093e-18+8.44640889e-18j]\n",
      " [-6.76962987e-01-7.27043563e-01j  1.84801881e-16+1.76906412e-16j]\n",
      " [-2.54193066e-16+6.07443756e-17j  2.23371273e-17-4.50070112e-19j]\n",
      " [-1.17932131e-16-2.17322768e-16j -4.04227087e-18+2.78880970e-18j]\n",
      " [-1.19795389e-17+1.17621109e-16j -1.11576527e-01+9.93755845e-01j]]\n"
     ]
    }
   ],
   "source": [
    "\n",
    "print(f\"eigevectors = {eigvec}\")"
   ]
  },
  {
   "cell_type": "code",
   "execution_count": 73,
   "metadata": {},
   "outputs": [
    {
     "name": "stdout",
     "output_type": "stream",
     "text": [
      "(16, 2)\n"
     ]
    }
   ],
   "source": [
    "print(eigvec.shape)"
   ]
  },
  {
   "cell_type": "code",
   "execution_count": 67,
   "metadata": {},
   "outputs": [
    {
     "name": "stdout",
     "output_type": "stream",
     "text": [
      "Exact ground state energy:\n",
      "E0 = -1.1371170673457307\n"
     ]
    }
   ],
   "source": [
    "eigvals_cl = np.linalg.eigvalsh(hamiltonian_sp.get_matrix())\n",
    "E0 = min(eigvals_cl)\n",
    "print(f\"Exact ground state energy:\\nE0 = {E0}\")"
   ]
  },
  {
   "cell_type": "code",
   "execution_count": 79,
   "metadata": {},
   "outputs": [],
   "source": [
    "from scipy.sparse.linalg import eigs # here is for we want to print the imaginary part\n",
    "vals, vecs = eigs(hamiltonian_matrix_sp, k=2)"
   ]
  },
  {
   "cell_type": "code",
   "execution_count": 80,
   "metadata": {},
   "outputs": [
    {
     "name": "stdout",
     "output_type": "stream",
     "text": [
      "eigenvalues = [-1.13711707-1.30660552e-17j  0.9014838 -3.09596974e-19j]\n"
     ]
    }
   ],
   "source": [
    "print(f\"eigenvalues_img = {vals}\")"
   ]
  },
  {
   "cell_type": "code",
   "execution_count": 81,
   "metadata": {},
   "outputs": [
    {
     "name": "stdout",
     "output_type": "stream",
     "text": [
      "eigenvalues = [[ 1.71087945e-17+1.69737093e-17j  8.66222592e-16-1.23345995e-15j]\n",
      " [-5.05657128e-18+5.92023792e-17j -2.72944215e-17-1.43893465e-16j]\n",
      " [ 4.17613459e-18-1.52336119e-17j -4.54104145e-17+1.41283347e-17j]\n",
      " [ 7.38857141e-02-8.75766670e-02j -2.71154711e-16+4.27932310e-16j]\n",
      " [-1.73678953e-16-1.83206441e-16j  2.99718691e-18-1.28282251e-18j]\n",
      " [ 1.16861988e-16-5.57728285e-17j  5.15810687e-18+8.46422621e-18j]\n",
      " [-1.22973676e-16-2.26639028e-17j -4.19482812e-17-3.85266148e-17j]\n",
      " [-1.00061090e-17-8.50409897e-18j -9.30300626e-17-1.36529457e-16j]\n",
      " [-4.69173728e-16-2.72014532e-16j  4.05332494e-17-1.56490466e-17j]\n",
      " [-1.46377113e-16-8.80015550e-17j  3.35134180e-17+1.15550755e-17j]\n",
      " [-4.43740275e-16+2.55324184e-16j  4.28686618e-17-2.49923370e-18j]\n",
      " [-4.10919310e-18+1.96061266e-17j -3.67457129e-17+1.55910671e-16j]\n",
      " [-6.40587820e-01+7.59288136e-01j  2.54870437e-16-2.95828728e-16j]\n",
      " [ 5.14976527e-17-7.52337833e-17j -4.03929098e-18-4.70251905e-20j]\n",
      " [-2.04039212e-17+2.13010866e-16j  9.68411231e-19-2.30374168e-17j]\n",
      " [ 2.04346018e-16-3.53871625e-16j  4.90328717e-01-8.71537578e-01j]]\n"
     ]
    }
   ],
   "source": [
    "print(f\"eigenvectors_img = {vecs}\")\n"
   ]
  },
  {
   "cell_type": "code",
   "execution_count": 82,
   "metadata": {},
   "outputs": [
    {
     "name": "stdout",
     "output_type": "stream",
     "text": [
      "(16, 2)\n"
     ]
    }
   ],
   "source": [
    "print(vecs.shape)"
   ]
  },
  {
   "cell_type": "markdown",
   "metadata": {},
   "source": [
    "#### Step3: Generate the initial state "
   ]
  },
  {
   "cell_type": "code",
   "execution_count": 83,
   "metadata": {},
   "outputs": [
    {
     "name": "stdout",
     "output_type": "stream",
     "text": [
      "[0, 0, 0.07357106708782271]\n"
     ]
    }
   ],
   "source": [
    "print(theta_init)"
   ]
  },
  {
   "cell_type": "code",
   "execution_count": 84,
   "metadata": {},
   "outputs": [],
   "source": [
    "cluster_ops_sp = [transform_to_jw_basis(t_o) for t_o in cluster_ops] "
   ]
  },
  {
   "cell_type": "code",
   "execution_count": 85,
   "metadata": {},
   "outputs": [],
   "source": [
    "hf_init_sp = recode_integer(ket_hf_init, get_jw_code(hamiltonian_sp.nbqbits))"
   ]
  },
  {
   "cell_type": "code",
   "execution_count": 89,
   "metadata": {},
   "outputs": [
    {
     "name": "stdout",
     "output_type": "stream",
     "text": [
      "-1.1161514489386022\n"
     ]
    },
    {
     "data": {
      "image/png": "[encoded data removed]",
      "text/plain": [
       "<Figure size 473.151x451.5 with 1 Axes>"
      ]
     },
     "execution_count": 89,
     "metadata": {},
     "output_type": "execute_result"
    }
   ],
   "source": [
    "from numpy import binary_repr\n",
    "\n",
    "from qat.lang import Program, H, X, Y, Z, I, PH, S, T, RX, RY, RZ, CNOT, ISWAP, SQRTSWAP, CCNOT, SWAP\n",
    "\n",
    "from qat.interop.qiskit import qlm_to_qiskit\n",
    "import matplotlib as mpl\n",
    "\n",
    "prog = Program()\n",
    "nbqbits = cluster_ops_sp[0].nbqbits\n",
    "ket_hf = binary_repr(hf_init_sp)\n",
    "list_ket_hf = [int(c) for c in ket_hf]\n",
    "qb = prog.qalloc(nbqbits)\n",
    "# print(list_ket_hf)\n",
    "for j in range(nbqbits):\n",
    "    if int(list_ket_hf[j] == 1):\n",
    "        prog.apply(X, qb[j])\n",
    "circ = prog.to_circ()\n",
    "qpu = get_default_qpu()\n",
    "job = circ.to_job(job_type=\"OBS\", observable=hamiltonian_sp)\n",
    "res = qpu.submit(job)\n",
    "print(res.value)\n",
    "\n",
    "\n",
    "#print(hf_init_sp) = 12\n",
    "# print(ket_hf) = 1100\n",
    "# print(hf_init_sp) = [1, 1, 0, 0]\n",
    "\n",
    "# Basically we have the number 12 and its binary for it will be 1100 so if I have \n",
    "\n",
    "ckt = qlm_to_qiskit(circ)\n",
    "ckt.draw(output='mpl')"
   ]
  },
  {
   "cell_type": "markdown",
   "metadata": {},
   "source": [
    "So basically, as I have 12 is the value of the hf_init_sp and the form of its binary is 1100, then in the language of the circuit contruct is from beginning the intitial state is 0000 (the number of qubit ==4)then the if condition is to apply XX to the first two zeros to flip that states to 11 so overall I have state 1100 and i measure its res.value for the minimum energy for appling that state to the spin hamiltonian\n",
    "\n",
    "$$\\langle 1100 | H_{\\text{spin}} | 1100 \\rangle$$"
   ]
  },
  {
   "cell_type": "markdown",
   "metadata": {},
   "source": [
    "Now I make a quick test for a list_box with a value from 0 to 15 and transfering its all to the binary form to get it box_states with states of ket representation then measuring its values to the H_spin and sorted the measurements in the increasing order"
   ]
  },
  {
   "cell_type": "code",
   "execution_count": 90,
   "metadata": {},
   "outputs": [
    {
     "name": "stdout",
     "output_type": "stream",
     "text": [
      "Box State: 0000, Value: 0, Excitation: 0.7055696145599998\n",
      "Box State: 0001, Value: 1, Excitation: 0.2242966834640164\n",
      "Box State: 0010, Value: 2, Excitation: 0.22429668346401646\n",
      "Box State: 0100, Value: 4, Excitation: -0.5417148906636157\n",
      "Box State: 1000, Value: 8, Excitation: -0.5417148906636157\n",
      "Box State: 0011, Value: 3, Excitation: 0.4388389034277981\n",
      "Box State: 0101, Value: 5, Excitation: -0.5427820988577581\n",
      "Box State: 1001, Value: 9, Excitation: -0.36101056228045325\n",
      "Box State: 0110, Value: 6, Excitation: -0.36101056228045325\n",
      "Box State: 1010, Value: 10, Excitation: -0.542782098857758\n",
      "Box State: 1100, Value: 12, Excitation: -1.1161514489386022\n",
      "Box State: 0111, Value: 7, Excitation: 0.33373738058516944\n",
      "Box State: 1011, Value: 11, Excitation: 0.33373738058516944\n",
      "Box State: 1101, Value: 13, Excitation: -0.4552413976535987\n",
      "Box State: 1110, Value: 14, Excitation: -0.4552413976535986\n",
      "Box State: 1111, Value: 15, Excitation: 0.9014838046911698\n"
     ]
    },
    {
     "data": {
      "image/png": "[encoded data removed]",
      "text/plain": [
       "<Figure size 1000x600 with 1 Axes>"
      ]
     },
     "metadata": {},
     "output_type": "display_data"
    }
   ],
   "source": [
    "import matplotlib.pyplot as plt\n",
    "from numpy import binary_repr\n",
    "from qat.lang import Program, X\n",
    "from qat.qpus import get_default_qpu\n",
    "\n",
    "# Assuming hamiltonian_sp is defined somewhere in your code\n",
    "# and box_list contains the values you mentioned\n",
    "box_list = [0, 1, 2, 4, 8, 3, 5, 9, 6, 10, 12, 7, 11, 13, 14, 15]\n",
    "\n",
    "def create_program(value, nbqbits):\n",
    "    ket_value = binary_repr(value)\n",
    "    padded_ket_value = ket_value.zfill(nbqbits)  # Pad with zeros to the left\n",
    "    list_ket_value = [int(c) for c in padded_ket_value]\n",
    "\n",
    "    prog = Program()\n",
    "    qb = prog.qalloc(nbqbits)\n",
    "\n",
    "    # Apply X gates based on the binary representation of the current value\n",
    "    for j in range(min(nbqbits, len(list_ket_value))):\n",
    "        if list_ket_value[j] == 1:\n",
    "            prog.apply(X, qb[j])\n",
    "\n",
    "    return prog\n",
    "\n",
    "excitation_values = []\n",
    "box_states = []\n",
    "\n",
    "for value in box_list:\n",
    "    nbqbits = cluster_ops_sp[0].nbqbits\n",
    "    prog = create_program(value, nbqbits)\n",
    "\n",
    "    circ = prog.to_circ()\n",
    "    qpu = get_default_qpu()\n",
    "\n",
    "  \n",
    "    job = circ.to_job(job_type=\"OBS\", observable=hamiltonian_sp)\n",
    "    res = qpu.submit(job)\n",
    "\n",
    "    box_states.append(binary_repr(value, width=nbqbits))\n",
    "    excitation_values.append(res.value)\n",
    "\n",
    "    # Print the box state and the result for each value\n",
    "    print(f\"Box State: {binary_repr(value, width=nbqbits)}, Value: {value}, Excitation: {res.value}\")\n",
    "\n",
    "# Sorting the data by excitation values\n",
    "sorted_data = sorted(zip(box_states, excitation_values), key=lambda x: x[1])\n",
    "\n",
    "# Extracting sorted box states and excitation values\n",
    "sorted_box_states, sorted_excitation_values = zip(*sorted_data)\n",
    "\n",
    "\n",
    "plt.figure(figsize=(10, 6))  # Adjust the figure size as needed\n",
    "plt.bar(sorted_box_states, sorted_excitation_values, color='crimson', alpha=0.7, edgecolor='black', linestyle='-', linewidth=1.2)\n",
    "plt.xlabel('Box State')\n",
    "plt.ylabel('Excitation')\n",
    "plt.title('Excitation Histogram by Box State (Increasing Order)')\n",
    "plt.xticks(rotation=45)  \n",
    "plt.grid(axis='y', linestyle='--', alpha=0.7)\n",
    "plt.tight_layout()  \n",
    "plt.show()"
   ]
  },
  {
   "cell_type": "code",
   "execution_count": null,
   "metadata": {},
   "outputs": [],
   "source": []
  }
 ],
 "metadata": {
  "kernelspec": {
   "display_name": "Python 3",
   "language": "python",
   "name": "python3"
  },
  "language_info": {
   "codemirror_mode": {
    "name": "ipython",
    "version": 3
   },
   "file_extension": ".py",
   "mimetype": "text/x-python",
   "name": "python",
   "nbconvert_exporter": "python",
   "pygments_lexer": "ipython3",
   "version": "3.10.12"
  }
 },
 "nbformat": 4,
 "nbformat_minor": 2
}
