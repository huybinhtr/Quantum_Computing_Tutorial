{
 "cells": [
  {
   "cell_type": "code",
   "execution_count": 1,
   "metadata": {},
   "outputs": [],
   "source": [
    "import matplotlib.pyplot as plt\n",
    "import numpy as np\n",
    "from itertools import product\n",
    "\n",
    "from qat.qpus import get_default_qpu\n",
    "from qat.core import Batch, Job\n",
    "\n",
    "from qat.fermion.transforms import transform_to_jw_basis\n",
    "from qat.fermion.hamiltonians import make_embedded_model\n",
    "from qat.fermion.circuits import make_shallow_circ, make_ldca_circ\n",
    "\n",
    "from qat.fermion.chemistry.pyscf_tools import perform_pyscf_computation\n",
    "from qat.fermion.chemistry import MolecularHamiltonian, MoleculeInfo\n",
    "from qat.fermion.trotterisation import make_trotterisation_routine\n",
    "from qat.fermion.chemistry.ucc import construct_ucc_ansatz, guess_init_params, get_hf_ket, get_cluster_ops\n",
    "from qat.qpus import get_default_qpu\n",
    "\n",
    "from qat.plugins import ScipyMinimizePlugin, MultipleLaunchesAnalyzer"
   ]
  },
  {
   "cell_type": "code",
   "execution_count": 2,
   "metadata": {},
   "outputs": [],
   "source": [
    "import numpy as np\n",
    "from qat.core import Observable, Term\n",
    "import numpy as np\n",
    "import scipy\n",
    "from numpy import binary_repr\n",
    "from qat.fermion import ElectronicStructureHamiltonian\n",
    "from qat.fermion.chemistry.pyscf_tools import perform_pyscf_computation\n",
    "\n",
    "from qat.lang.AQASM import Program, QRoutine, RY, CNOT, RX, Z, H, RZ, I, X\n",
    "from qat.core import Observable, Term, Circuit\n",
    "from qat.lang.AQASM.gates import Gate\n",
    "import matplotlib as mpl\n",
    "import numpy as np\n",
    "from typing import Optional, List\n",
    "import warnings\n",
    "from qat.qpus import get_default_qpu\n",
    "\n",
    "qpu = get_default_qpu()\n",
    "method = \"BFGS\"\n"
   ]
  },
  {
   "cell_type": "code",
   "execution_count": 3,
   "metadata": {},
   "outputs": [
    {
     "name": "stderr",
     "output_type": "stream",
     "text": [
      "/home/huybinh/.local/lib/python3.10/site-packages/pyscf/dft/libxc.py:772: UserWarning: Since PySCF-2.3, B3LYP (and B3P86) are changed to the VWN-RPA variant, the same to the B3LYP functional in Gaussian and ORCA (issue 1480). To restore the VWN5 definition, you can put the setting \"B3LYP_WITH_VWN5 = True\" in pyscf_conf.py\n",
      "  warnings.warn('Since PySCF-2.3, B3LYP (and B3P86) are changed to the VWN-RPA variant, '\n"
     ]
    },
    {
     "name": "stdout",
     "output_type": "stream",
     "text": [
      " HF energy :  -1.0688975010368336\n",
      " MP2 energy : -1.0891124176527813\n",
      " FCI energy : -1.103247661224499\n",
      "\n",
      "Number of qubits before active space selection = 4\n",
      "Number of qubits =  4\n"
     ]
    }
   ],
   "source": [
    "from qat.fermion.chemistry.pyscf_tools import perform_pyscf_computation\n",
    "\n",
    "geometry = [(\"H\", (0.0, 0.0, 0.0)), (\"H\", (0.0, 0.0, 0.99))]\n",
    "basis = \"sto-3g\"\n",
    "spin = 0\n",
    "charge = 0\n",
    "\n",
    "(\n",
    "    rdm1,\n",
    "    orbital_energies,\n",
    "    nuclear_repulsion,\n",
    "    n_electrons,\n",
    "    one_body_integrals,\n",
    "    two_body_integrals,\n",
    "    info,\n",
    ") = perform_pyscf_computation(geometry=geometry, basis=basis, spin=spin, charge=charge, run_fci=True)\n",
    "\n",
    "print(\n",
    "    f\" HF energy :  {info['HF']}\\n\",\n",
    "    f\"MP2 energy : {info['MP2']}\\n\",\n",
    "    f\"FCI energy : {info['FCI']}\\n\",\n",
    ")\n",
    "print(f\"Number of qubits before active space selection = {rdm1.shape[0] * 2}\")\n",
    "\n",
    "nqbits = rdm1.shape[0] * 2\n",
    "print(\"Number of qubits = \", nqbits)"
   ]
  },
  {
   "cell_type": "code",
   "execution_count": 4,
   "metadata": {},
   "outputs": [
    {
     "name": "stdout",
     "output_type": "stream",
     "text": [
      "4\n"
     ]
    }
   ],
   "source": [
    "from qat.fermion.chemistry import MolecularHamiltonian, MoleculeInfo\n",
    "from qat.fermion.chemistry.ucc import (\n",
    "    guess_init_params,\n",
    "    get_hf_ket,\n",
    "    get_cluster_ops,\n",
    ")\n",
    "\n",
    "# Wrap the hamiltonian data into the `MolecularHamiltonian` class.\n",
    "mol_h = MolecularHamiltonian(one_body_integrals, two_body_integrals, nuclear_repulsion)\n",
    "\n",
    "\n",
    "molecule = MoleculeInfo(hamiltonian=mol_h, n_electrons=n_electrons, noons = False,  orbital_energies=orbital_energies)\n",
    "print(molecule.nqbits)"
   ]
  },
  {
   "cell_type": "code",
   "execution_count": 5,
   "metadata": {},
   "outputs": [],
   "source": [
    "# Computation of the initial parameters\n",
    "theta_init = guess_init_params(\n",
    "    molecule.two_body_integrals,\n",
    "    molecule.n_electrons,\n",
    "    molecule.orbital_energies,\n",
    ")\n",
    "\n",
    "# Define the initial Hartree-Fock state\n",
    "ket_hf_init = get_hf_ket(molecule.n_electrons, nqbits=molecule.nqbits)\n",
    "\n",
    "# Compute the cluster operators\n",
    "cluster_ops = get_cluster_ops(molecule.n_electrons, nqbits=molecule.nqbits)\n",
    "\n",
    "\n",
    "# Get the ElectronicStructureHamiltonian\n",
    "H = molecule.hamiltonian.get_electronic_hamiltonian()\n"
   ]
  },
  {
   "cell_type": "code",
   "execution_count": 6,
   "metadata": {},
   "outputs": [
    {
     "name": "stdout",
     "output_type": "stream",
     "text": [
      "This model has the number of qubit: 4\n",
      "The number of excitation for this model 3\n",
      "(-0.3215821345068788+0j) * I^4 +\n",
      "(0.15704511695409992+0j) * (ZZ|[0, 1]) +\n",
      "(0.1067602885375726+0j) * (ZZ|[0, 2]) +\n",
      "(0.1557997832872776+0j) * (ZZ|[1, 2]) +\n",
      "(0.1557997832872776+0j) * (ZZ|[0, 3]) +\n",
      "(0.1382949122525399+0j) * (Z|[0]) +\n",
      "(0.1067602885375726+0j) * (ZZ|[1, 3]) +\n",
      "(0.13829491225253987+0j) * (Z|[1]) +\n",
      "(0.049039494749704995+0j) * (XYYX|[0, 1, 2, 3]) +\n",
      "(-0.049039494749704995+0j) * (XXYY|[0, 1, 2, 3]) +\n",
      "(-0.049039494749704995+0j) * (YYXX|[0, 1, 2, 3]) +\n",
      "(0.049039494749704995+0j) * (YXXY|[0, 1, 2, 3]) +\n",
      "(0.16366861628421733+0j) * (ZZ|[2, 3]) +\n",
      "(-0.13315956580674568+0j) * (Z|[2]) +\n",
      "(-0.13315956580674568+0j) * (Z|[3])\n"
     ]
    }
   ],
   "source": [
    "from qat.fermion.transforms import transform_to_jw_basis, get_jw_code, recode_integer\n",
    "\n",
    "transformation, code = transform_to_jw_basis, get_jw_code\n",
    "\n",
    "H_sp = transformation(H)\n",
    "model = H_sp\n",
    "nqbits = model.nbqbits\n",
    "\n",
    "# Express the cluster operator in spin terms\n",
    "cluster_ops_sp = [transformation(t_o) for t_o in cluster_ops]\n",
    "\n",
    "# Encoding the initial state to new encoding\n",
    "hf_init_sp = recode_integer(ket_hf_init, code(nqbits))\n",
    "\n",
    "\n",
    "print(\"This model has the number of qubit:\", model.nbqbits)\n",
    "print(\"The number of excitation for this model\", len(cluster_ops_sp))\n",
    "print(model)"
   ]
  },
  {
   "cell_type": "code",
   "execution_count": 7,
   "metadata": {},
   "outputs": [
    {
     "name": "stdout",
     "output_type": "stream",
     "text": [
      "[-1.10324766  0.51398105  0.53452244 -0.3480589  -0.60479546 -0.58127777\n",
      "  0.05127057 -0.05161581 -0.58127777 -0.60479546 -0.05161581 -0.74037486\n",
      " -0.74037486 -0.74037486]\n"
     ]
    }
   ],
   "source": [
    "model_matrix_sp = model.get_matrix(sparse=True)\n",
    "from scipy.sparse.linalg import eigsh\n",
    "eigval, eigvec = eigsh(model_matrix_sp, k=14)\n",
    "print(eigval)\n",
    "#print(eigvec)"
   ]
  },
  {
   "cell_type": "code",
   "execution_count": 8,
   "metadata": {},
   "outputs": [],
   "source": [
    "\n",
    "import itertools\n",
    "from typing import Any, List, Tuple, Optional, Dict\n",
    "from bitstring import BitArray\n",
    "import numpy as np\n",
    "\n",
    "from qat.core import Term\n",
    "from qat.lang.AQASM import Program, QRoutine, RY, CNOT, RX, Z, H, RZ, I, X\n",
    "\n",
    "from qat.fermion.trotterisation import make_spin_hamiltonian_trotter_slice\n",
    "from qat.fermion.hamiltonians import SpinHamiltonian, FermionHamiltonian\n",
    "from qat.fermion.util import tobin\n",
    "\n",
    "def k_ucc_ansatz(\n",
    "    cluster_ops: List[SpinHamiltonian],\n",
    "    k: int, # number of excitations\n",
    "    theta: float,  \n",
    "    n_steps: int = 1,\n",
    ") -> Program:\n",
    "\n",
    "\n",
    "    nqbits = cluster_ops[0].nbqbits\n",
    "\n",
    "    prog = Program()\n",
    "    reg = prog.qalloc(nqbits)\n",
    "\n",
    "    # Initialize the Hartree-Fock state into the Program\n",
    "    for j, char in enumerate(tobin(k, nqbits)):\n",
    "        if char == \"1\":\n",
    "            prog.apply(X, reg[j])\n",
    "        if char == \"0\":\n",
    "            prog.apply(I, reg[j])\n",
    "    \n",
    "\n",
    "    print(\"This applied state is \", tobin(k, nqbits))\n",
    "    # Define the parameters to optimize\n",
    "\n",
    "\n",
    "    # Trotterize the Hamiltonian (with 1 trotter step)\n",
    "    idx = 0\n",
    "    for _ in range(n_steps):\n",
    "\n",
    "        # Define the Hamiltonian for current Trotter step\n",
    "        hamiltonian = sum([th * T for th, T in zip(theta[idx : idx + len(cluster_ops)], cluster_ops)])\n",
    "\n",
    "        # Trotterize the Hamiltonian and apply QRoutine\n",
    "        qrout = make_spin_hamiltonian_trotter_slice(hamiltonian, coeff=1.0 / n_steps)\n",
    "        prog.apply(qrout, reg)\n",
    "\n",
    "        # Take the next set (of length len(cluster_ops)) of thetas\n",
    "        idx += len(cluster_ops)\n",
    "\n",
    "    return prog.to_circ()"
   ]
  },
  {
   "cell_type": "code",
   "execution_count": 9,
   "metadata": {},
   "outputs": [
    {
     "name": "stdout",
     "output_type": "stream",
     "text": [
      "The initial HF state  12\n",
      "This applied state is  1100\n"
     ]
    },
    {
     "data": {
      "text/html": [
       "<svg baseProfile=\"full\" height=\"400\" version=\"1.1\" viewBox=\"0 0 7675 229\" width=\"1200\" xmlns=\"http://www.w3.org/2000/svg\" xmlns:ev=\"http://www.w3.org/2001/xml-events\" xmlns:xlink=\"http://www.w3.org/1999/xlink\"><defs><style type=\"text/css\"><![CDATA[@font-face{ \n",
       "    font-family: \"STIXMathJax_Main-Italic\"; \n",
       "    src: url(\"data:application/x-font-opentype;charset=utf-8;base64,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\"); \n",
       "}\n",
       "]]></style></defs><text style=\"font-family: STIXMathJax_Main-Italic; font-size: 16px;\" x=\"10\" y=\"37\">Q0</text><line stroke=\"rgb(0,0,0)\" x1=\"50\" x2=\"7675\" y1=\"32\" y2=\"32\" /><text style=\"font-family: STIXMathJax_Main-Italic; font-size: 16px;\" x=\"10\" y=\"69\">Q1</text><line stroke=\"rgb(0,0,0)\" x1=\"50\" x2=\"7675\" y1=\"64\" y2=\"64\" /><text style=\"font-family: STIXMathJax_Main-Italic; font-size: 16px;\" x=\"10\" y=\"101\">Q2</text><line stroke=\"rgb(0,0,0)\" x1=\"50\" x2=\"7675\" y1=\"96\" y2=\"96\" /><text style=\"font-family: STIXMathJax_Main-Italic; font-size: 16px;\" x=\"10\" y=\"133\">Q3</text><line stroke=\"rgb(0,0,0)\" x1=\"50\" x2=\"7675\" y1=\"128\" y2=\"128\" /><rect fill=\"white\" height=\"24\" stroke=\"black\" stroke-width=\"2\" width=\"27\" x=\"60\" y=\"20\" /><text style=\"font-family: STIXMathJax_Main-Italic; font-size: 16px;\" x=\"68\" y=\"37\">X</text><rect fill=\"white\" height=\"24\" stroke=\"black\" stroke-width=\"2\" width=\"27\" x=\"60\" y=\"52\" /><text style=\"font-family: STIXMathJax_Main-Italic; font-size: 16px;\" x=\"68\" y=\"69\">X</text><rect fill=\"white\" height=\"24\" stroke=\"black\" stroke-width=\"2\" width=\"23\" x=\"60\" y=\"84\" /><text style=\"font-family: STIXMathJax_Main-Italic; font-size: 16px;\" x=\"68\" y=\"101\">I</text><rect fill=\"white\" height=\"24\" stroke=\"black\" stroke-width=\"2\" width=\"23\" x=\"60\" y=\"116\" /><text style=\"font-family: STIXMathJax_Main-Italic; font-size: 16px;\" x=\"68\" y=\"133\">I</text><rect fill=\"white\" height=\"24\" stroke=\"black\" stroke-width=\"2\" width=\"73\" x=\"97\" y=\"52\" /><text style=\"font-family: STIXMathJax_Main-Italic; font-size: 16px;\" x=\"105\" y=\"69\">RX [π/2]</text><rect fill=\"white\" height=\"24\" stroke=\"black\" stroke-width=\"2\" width=\"29\" x=\"97\" y=\"116\" /><text style=\"font-family: STIXMathJax_Main-Italic; font-size: 16px;\" x=\"105\" y=\"133\">H</text><rect fill=\"white\" height=\"24\" stroke=\"black\" stroke-width=\"2\" width=\"73\" x=\"97\" y=\"20\" /><text style=\"font-family: STIXMathJax_Main-Italic; font-size: 16px;\" x=\"105\" y=\"37\">RX [π/2]</text><line stroke=\"rgb(0,0,0)\" x1=\"196\" x2=\"196\" y1=\"96\" y2=\"128\" /><circle cx=\"196\" cy=\"128\" fill=\"black\" r=\"4\" /><g><circle cx=\"196\" cy=\"96\" fill=\"white\" r=\"8\" stroke=\"black\" stroke-width=\"1\" /><line stroke=\"rgb(0,0,0)\" x1=\"188\" x2=\"204\" y1=\"96\" y2=\"96\" /><line stroke=\"rgb(0,0,0)\" x1=\"196\" x2=\"196\" y1=\"88\" y2=\"104\" /></g><line stroke=\"rgb(0,0,0)\" x1=\"238\" x2=\"238\" y1=\"64\" y2=\"96\" /><circle cx=\"238\" cy=\"96\" fill=\"black\" r=\"4\" /><g><circle cx=\"238\" cy=\"64\" fill=\"white\" r=\"8\" stroke=\"black\" stroke-width=\"1\" /><line stroke=\"rgb(0,0,0)\" x1=\"230\" x2=\"246\" y1=\"64\" y2=\"64\" /><line stroke=\"rgb(0,0,0)\" x1=\"238\" x2=\"238\" y1=\"56\" y2=\"72\" /></g><rect fill=\"white\" height=\"24\" stroke=\"black\" stroke-width=\"2\" width=\"196\" x=\"264\" y=\"52\" /><text style=\"font-family: STIXMathJax_Main-Italic; font-size: 16px;\" x=\"272\" y=\"69\">RZ [(2.0 * (-0.5 * theta_0))]</text><line stroke=\"rgb(0,0,0)\" x1=\"486\" x2=\"486\" y1=\"64\" y2=\"96\" /><circle cx=\"486\" cy=\"96\" fill=\"black\" r=\"4\" /><g><circle cx=\"486\" cy=\"64\" fill=\"white\" r=\"8\" stroke=\"black\" stroke-width=\"1\" /><line stroke=\"rgb(0,0,0)\" x1=\"478\" x2=\"494\" y1=\"64\" y2=\"64\" /><line stroke=\"rgb(0,0,0)\" x1=\"486\" x2=\"486\" y1=\"56\" y2=\"72\" /></g><line stroke=\"rgb(0,0,0)\" x1=\"528\" x2=\"528\" y1=\"96\" y2=\"128\" /><circle cx=\"528\" cy=\"128\" fill=\"black\" r=\"4\" /><g><circle cx=\"528\" cy=\"96\" fill=\"white\" r=\"8\" stroke=\"black\" stroke-width=\"1\" /><line stroke=\"rgb(0,0,0)\" x1=\"520\" x2=\"536\" y1=\"96\" y2=\"96\" /><line stroke=\"rgb(0,0,0)\" x1=\"528\" x2=\"528\" y1=\"88\" y2=\"104\" /></g><rect fill=\"white\" height=\"24\" stroke=\"black\" stroke-width=\"2\" width=\"78\" x=\"512\" y=\"52\" /><text style=\"font-family: STIXMathJax_Main-Italic; font-size: 16px;\" x=\"520\" y=\"69\">RX [-π/2]</text><rect fill=\"white\" height=\"24\" stroke=\"black\" stroke-width=\"2\" width=\"29\" x=\"600\" y=\"116\" /><text style=\"font-family: STIXMathJax_Main-Italic; font-size: 16px;\" x=\"608\" y=\"133\">H</text><rect fill=\"white\" height=\"24\" stroke=\"black\" stroke-width=\"2\" width=\"29\" x=\"600\" y=\"52\" /><text style=\"font-family: STIXMathJax_Main-Italic; font-size: 16px;\" x=\"608\" y=\"69\">H</text><rect fill=\"white\" height=\"24\" stroke=\"black\" stroke-width=\"2\" width=\"73\" x=\"639\" y=\"116\" /><text style=\"font-family: STIXMathJax_Main-Italic; font-size: 16px;\" x=\"647\" y=\"133\">RX [π/2]</text><line stroke=\"rgb(0,0,0)\" x1=\"738\" x2=\"738\" y1=\"96\" y2=\"128\" /><circle cx=\"738\" cy=\"128\" fill=\"black\" r=\"4\" /><g><circle cx=\"738\" cy=\"96\" fill=\"white\" r=\"8\" stroke=\"black\" stroke-width=\"1\" /><line stroke=\"rgb(0,0,0)\" x1=\"730\" x2=\"746\" y1=\"96\" y2=\"96\" /><line stroke=\"rgb(0,0,0)\" x1=\"738\" x2=\"738\" y1=\"88\" y2=\"104\" /></g><line stroke=\"rgb(0,0,0)\" x1=\"780\" x2=\"780\" y1=\"64\" y2=\"96\" /><circle cx=\"780\" cy=\"96\" fill=\"black\" r=\"4\" /><g><circle cx=\"780\" cy=\"64\" fill=\"white\" r=\"8\" stroke=\"black\" stroke-width=\"1\" /><line stroke=\"rgb(0,0,0)\" x1=\"772\" x2=\"788\" y1=\"64\" y2=\"64\" /><line stroke=\"rgb(0,0,0)\" x1=\"780\" x2=\"780\" y1=\"56\" y2=\"72\" /></g><rect fill=\"white\" height=\"24\" stroke=\"black\" stroke-width=\"2\" width=\"191\" x=\"806\" y=\"52\" /><text style=\"font-family: STIXMathJax_Main-Italic; font-size: 16px;\" x=\"814\" y=\"69\">RZ [(2.0 * (0.5 * theta_0))]</text><line stroke=\"rgb(0,0,0)\" x1=\"1023\" x2=\"1023\" y1=\"64\" y2=\"96\" /><circle cx=\"1023\" cy=\"96\" fill=\"black\" r=\"4\" /><g><circle cx=\"1023\" cy=\"64\" fill=\"white\" r=\"8\" stroke=\"black\" stroke-width=\"1\" /><line stroke=\"rgb(0,0,0)\" x1=\"1015\" x2=\"1031\" y1=\"64\" y2=\"64\" /><line stroke=\"rgb(0,0,0)\" x1=\"1023\" x2=\"1023\" y1=\"56\" y2=\"72\" /></g><line stroke=\"rgb(0,0,0)\" x1=\"1065\" x2=\"1065\" y1=\"96\" y2=\"128\" /><circle cx=\"1065\" cy=\"128\" fill=\"black\" r=\"4\" /><g><circle cx=\"1065\" cy=\"96\" fill=\"white\" r=\"8\" stroke=\"black\" stroke-width=\"1\" /><line stroke=\"rgb(0,0,0)\" x1=\"1057\" x2=\"1073\" y1=\"96\" y2=\"96\" /><line stroke=\"rgb(0,0,0)\" x1=\"1065\" x2=\"1065\" y1=\"88\" y2=\"104\" /></g><rect fill=\"white\" height=\"24\" stroke=\"black\" stroke-width=\"2\" width=\"29\" x=\"1049\" y=\"52\" /><text style=\"font-family: STIXMathJax_Main-Italic; font-size: 16px;\" x=\"1057\" y=\"69\">H</text><rect fill=\"white\" height=\"24\" stroke=\"black\" stroke-width=\"2\" width=\"78\" x=\"1091\" y=\"116\" /><text style=\"font-family: STIXMathJax_Main-Italic; font-size: 16px;\" x=\"1099\" y=\"133\">RX [-π/2]</text><rect fill=\"white\" height=\"24\" stroke=\"black\" stroke-width=\"2\" width=\"29\" x=\"1091\" y=\"84\" /><text style=\"font-family: STIXMathJax_Main-Italic; font-size: 16px;\" x=\"1099\" y=\"101\">H</text><line stroke=\"rgb(0,0,0)\" x1=\"1195\" x2=\"1195\" y1=\"64\" y2=\"96\" /><circle cx=\"1195\" cy=\"96\" fill=\"black\" r=\"4\" /><g><circle cx=\"1195\" cy=\"64\" fill=\"white\" r=\"8\" stroke=\"black\" stroke-width=\"1\" /><line stroke=\"rgb(0,0,0)\" x1=\"1187\" x2=\"1203\" y1=\"64\" y2=\"64\" /><line stroke=\"rgb(0,0,0)\" x1=\"1195\" x2=\"1195\" y1=\"56\" y2=\"72\" /></g><rect fill=\"white\" height=\"24\" stroke=\"black\" stroke-width=\"2\" width=\"73\" x=\"1179\" y=\"116\" /><text style=\"font-family: STIXMathJax_Main-Italic; font-size: 16px;\" x=\"1187\" y=\"133\">RX [π/2]</text><line stroke=\"rgb(0,0,0)\" x1=\"1278\" x2=\"1278\" y1=\"32\" y2=\"64\" /><circle cx=\"1278\" cy=\"64\" fill=\"black\" r=\"4\" /><g><circle cx=\"1278\" cy=\"32\" fill=\"white\" r=\"8\" stroke=\"black\" stroke-width=\"1\" /><line stroke=\"rgb(0,0,0)\" x1=\"1270\" x2=\"1286\" y1=\"32\" y2=\"32\" /><line stroke=\"rgb(0,0,0)\" x1=\"1278\" x2=\"1278\" y1=\"24\" y2=\"40\" /></g><rect fill=\"white\" height=\"24\" stroke=\"black\" stroke-width=\"2\" width=\"196\" x=\"1304\" y=\"20\" /><text style=\"font-family: STIXMathJax_Main-Italic; font-size: 16px;\" x=\"1312\" y=\"37\">RZ [(2.0 * (-0.5 * theta_1))]</text><line stroke=\"rgb(0,0,0)\" x1=\"1526\" x2=\"1526\" y1=\"32\" y2=\"64\" /><circle cx=\"1526\" cy=\"64\" fill=\"black\" r=\"4\" /><g><circle cx=\"1526\" cy=\"32\" fill=\"white\" r=\"8\" stroke=\"black\" stroke-width=\"1\" /><line stroke=\"rgb(0,0,0)\" x1=\"1518\" x2=\"1534\" y1=\"32\" y2=\"32\" /><line stroke=\"rgb(0,0,0)\" x1=\"1526\" x2=\"1526\" y1=\"24\" y2=\"40\" /></g><line stroke=\"rgb(0,0,0)\" x1=\"1568\" x2=\"1568\" y1=\"64\" y2=\"96\" /><circle cx=\"1568\" cy=\"96\" fill=\"black\" r=\"4\" /><g><circle cx=\"1568\" cy=\"64\" fill=\"white\" r=\"8\" stroke=\"black\" stroke-width=\"1\" /><line stroke=\"rgb(0,0,0)\" x1=\"1560\" x2=\"1576\" y1=\"64\" y2=\"64\" /><line stroke=\"rgb(0,0,0)\" x1=\"1568\" x2=\"1568\" y1=\"56\" y2=\"72\" /></g><rect fill=\"white\" height=\"24\" stroke=\"black\" stroke-width=\"2\" width=\"78\" x=\"1552\" y=\"20\" /><text style=\"font-family: STIXMathJax_Main-Italic; font-size: 16px;\" x=\"1560\" y=\"37\">RX [-π/2]</text><rect fill=\"white\" height=\"24\" stroke=\"black\" stroke-width=\"2\" width=\"29\" x=\"1640\" y=\"84\" /><text style=\"font-family: STIXMathJax_Main-Italic; font-size: 16px;\" x=\"1648\" y=\"101\">H</text><rect fill=\"white\" height=\"24\" stroke=\"black\" stroke-width=\"2\" width=\"29\" x=\"1640\" y=\"20\" /><text style=\"font-family: STIXMathJax_Main-Italic; font-size: 16px;\" x=\"1648\" y=\"37\">H</text><rect fill=\"white\" height=\"24\" stroke=\"black\" stroke-width=\"2\" width=\"73\" x=\"1679\" y=\"84\" /><text style=\"font-family: STIXMathJax_Main-Italic; font-size: 16px;\" x=\"1687\" y=\"101\">RX [π/2]</text><line stroke=\"rgb(0,0,0)\" x1=\"1778\" x2=\"1778\" y1=\"64\" y2=\"96\" /><circle cx=\"1778\" cy=\"96\" fill=\"black\" r=\"4\" /><g><circle cx=\"1778\" cy=\"64\" fill=\"white\" r=\"8\" stroke=\"black\" stroke-width=\"1\" /><line stroke=\"rgb(0,0,0)\" x1=\"1770\" x2=\"1786\" y1=\"64\" y2=\"64\" /><line stroke=\"rgb(0,0,0)\" x1=\"1778\" x2=\"1778\" y1=\"56\" y2=\"72\" /></g><line stroke=\"rgb(0,0,0)\" x1=\"1820\" x2=\"1820\" y1=\"32\" y2=\"64\" /><circle cx=\"1820\" cy=\"64\" fill=\"black\" r=\"4\" /><g><circle cx=\"1820\" cy=\"32\" fill=\"white\" r=\"8\" stroke=\"black\" stroke-width=\"1\" /><line stroke=\"rgb(0,0,0)\" x1=\"1812\" x2=\"1828\" y1=\"32\" y2=\"32\" /><line stroke=\"rgb(0,0,0)\" x1=\"1820\" x2=\"1820\" y1=\"24\" y2=\"40\" /></g><rect fill=\"white\" height=\"24\" stroke=\"black\" stroke-width=\"2\" width=\"191\" x=\"1846\" y=\"20\" /><text style=\"font-family: STIXMathJax_Main-Italic; font-size: 16px;\" x=\"1854\" y=\"37\">RZ [(2.0 * (0.5 * theta_1))]</text><line stroke=\"rgb(0,0,0)\" x1=\"2063\" x2=\"2063\" y1=\"32\" y2=\"64\" /><circle cx=\"2063\" cy=\"64\" fill=\"black\" r=\"4\" /><g><circle cx=\"2063\" cy=\"32\" fill=\"white\" r=\"8\" stroke=\"black\" stroke-width=\"1\" /><line stroke=\"rgb(0,0,0)\" x1=\"2055\" x2=\"2071\" y1=\"32\" y2=\"32\" /><line stroke=\"rgb(0,0,0)\" x1=\"2063\" x2=\"2063\" y1=\"24\" y2=\"40\" /></g><line stroke=\"rgb(0,0,0)\" x1=\"2105\" x2=\"2105\" y1=\"64\" y2=\"96\" /><circle cx=\"2105\" cy=\"96\" fill=\"black\" r=\"4\" /><g><circle cx=\"2105\" cy=\"64\" fill=\"white\" r=\"8\" stroke=\"black\" stroke-width=\"1\" /><line stroke=\"rgb(0,0,0)\" x1=\"2097\" x2=\"2113\" y1=\"64\" y2=\"64\" /><line stroke=\"rgb(0,0,0)\" x1=\"2105\" x2=\"2105\" y1=\"56\" y2=\"72\" /></g><rect fill=\"white\" height=\"24\" stroke=\"black\" stroke-width=\"2\" width=\"29\" x=\"2089\" y=\"20\" /><text style=\"font-family: STIXMathJax_Main-Italic; font-size: 16px;\" x=\"2097\" y=\"37\">H</text><rect fill=\"white\" height=\"24\" stroke=\"black\" stroke-width=\"2\" width=\"78\" x=\"2131\" y=\"84\" /><text style=\"font-family: STIXMathJax_Main-Italic; font-size: 16px;\" x=\"2139\" y=\"101\">RX [-π/2]</text><rect fill=\"white\" height=\"24\" stroke=\"black\" stroke-width=\"2\" width=\"73\" x=\"2131\" y=\"20\" /><text style=\"font-family: STIXMathJax_Main-Italic; font-size: 16px;\" x=\"2139\" y=\"37\">RX [π/2]</text><rect fill=\"white\" height=\"24\" stroke=\"black\" stroke-width=\"2\" width=\"29\" x=\"2131\" y=\"52\" /><text style=\"font-family: STIXMathJax_Main-Italic; font-size: 16px;\" x=\"2139\" y=\"69\">H</text><rect fill=\"white\" height=\"24\" stroke=\"black\" stroke-width=\"2\" width=\"73\" x=\"2219\" y=\"84\" /><text style=\"font-family: STIXMathJax_Main-Italic; font-size: 16px;\" x=\"2227\" y=\"101\">RX [π/2]</text><line stroke=\"rgb(0,0,0)\" x1=\"2318\" x2=\"2318\" y1=\"96\" y2=\"128\" /><circle cx=\"2318\" cy=\"128\" fill=\"black\" r=\"4\" /><g><circle cx=\"2318\" cy=\"96\" fill=\"white\" r=\"8\" stroke=\"black\" stroke-width=\"1\" /><line stroke=\"rgb(0,0,0)\" x1=\"2310\" x2=\"2326\" y1=\"96\" y2=\"96\" /><line stroke=\"rgb(0,0,0)\" x1=\"2318\" x2=\"2318\" y1=\"88\" y2=\"104\" /></g><line stroke=\"rgb(0,0,0)\" x1=\"2360\" x2=\"2360\" y1=\"64\" y2=\"96\" /><circle cx=\"2360\" cy=\"96\" fill=\"black\" r=\"4\" /><g><circle cx=\"2360\" cy=\"64\" fill=\"white\" r=\"8\" stroke=\"black\" stroke-width=\"1\" /><line stroke=\"rgb(0,0,0)\" x1=\"2352\" x2=\"2368\" y1=\"64\" y2=\"64\" /><line stroke=\"rgb(0,0,0)\" x1=\"2360\" x2=\"2360\" y1=\"56\" y2=\"72\" /></g><line stroke=\"rgb(0,0,0)\" x1=\"2402\" x2=\"2402\" y1=\"32\" y2=\"64\" /><circle cx=\"2402\" cy=\"64\" fill=\"black\" r=\"4\" /><g><circle cx=\"2402\" cy=\"32\" fill=\"white\" r=\"8\" stroke=\"black\" stroke-width=\"1\" /><line stroke=\"rgb(0,0,0)\" x1=\"2394\" x2=\"2410\" y1=\"32\" y2=\"32\" /><line stroke=\"rgb(0,0,0)\" x1=\"2402\" x2=\"2402\" y1=\"24\" y2=\"40\" /></g><rect fill=\"white\" height=\"24\" stroke=\"black\" stroke-width=\"2\" width=\"212\" x=\"2428\" y=\"20\" /><text style=\"font-family: STIXMathJax_Main-Italic; font-size: 16px;\" x=\"2436\" y=\"37\">RZ [(2.0 * (-0.125 * theta_2))]</text><line stroke=\"rgb(0,0,0)\" x1=\"2666\" x2=\"2666\" y1=\"32\" y2=\"64\" /><circle cx=\"2666\" cy=\"64\" fill=\"black\" r=\"4\" /><g><circle cx=\"2666\" cy=\"32\" fill=\"white\" r=\"8\" stroke=\"black\" stroke-width=\"1\" /><line stroke=\"rgb(0,0,0)\" x1=\"2658\" x2=\"2674\" y1=\"32\" y2=\"32\" /><line stroke=\"rgb(0,0,0)\" x1=\"2666\" x2=\"2666\" y1=\"24\" y2=\"40\" /></g><line stroke=\"rgb(0,0,0)\" x1=\"2708\" x2=\"2708\" y1=\"64\" y2=\"96\" /><circle cx=\"2708\" cy=\"96\" fill=\"black\" r=\"4\" /><g><circle cx=\"2708\" cy=\"64\" fill=\"white\" r=\"8\" stroke=\"black\" stroke-width=\"1\" /><line stroke=\"rgb(0,0,0)\" x1=\"2700\" x2=\"2716\" y1=\"64\" y2=\"64\" /><line stroke=\"rgb(0,0,0)\" x1=\"2708\" x2=\"2708\" y1=\"56\" y2=\"72\" /></g><rect fill=\"white\" height=\"24\" stroke=\"black\" stroke-width=\"2\" width=\"78\" x=\"2692\" y=\"20\" /><text style=\"font-family: STIXMathJax_Main-Italic; font-size: 16px;\" x=\"2700\" y=\"37\">RX [-π/2]</text><line stroke=\"rgb(0,0,0)\" x1=\"2796\" x2=\"2796\" y1=\"96\" y2=\"128\" /><circle cx=\"2796\" cy=\"128\" fill=\"black\" r=\"4\" /><g><circle cx=\"2796\" cy=\"96\" fill=\"white\" r=\"8\" stroke=\"black\" stroke-width=\"1\" /><line stroke=\"rgb(0,0,0)\" x1=\"2788\" x2=\"2804\" y1=\"96\" y2=\"96\" /><line stroke=\"rgb(0,0,0)\" x1=\"2796\" x2=\"2796\" y1=\"88\" y2=\"104\" /></g><rect fill=\"white\" height=\"24\" stroke=\"black\" stroke-width=\"2\" width=\"29\" x=\"2780\" y=\"52\" /><text style=\"font-family: STIXMathJax_Main-Italic; font-size: 16px;\" x=\"2788\" y=\"69\">H</text><rect fill=\"white\" height=\"24\" stroke=\"black\" stroke-width=\"2\" width=\"73\" x=\"2780\" y=\"20\" /><text style=\"font-family: STIXMathJax_Main-Italic; font-size: 16px;\" x=\"2788\" y=\"37\">RX [π/2]</text><rect fill=\"white\" height=\"24\" stroke=\"black\" stroke-width=\"2\" width=\"78\" x=\"2863\" y=\"116\" /><text style=\"font-family: STIXMathJax_Main-Italic; font-size: 16px;\" x=\"2871\" y=\"133\">RX [-π/2]</text><rect fill=\"white\" height=\"24\" stroke=\"black\" stroke-width=\"2\" width=\"78\" x=\"2863\" y=\"84\" /><text style=\"font-family: STIXMathJax_Main-Italic; font-size: 16px;\" x=\"2871\" y=\"101\">RX [-π/2]</text><rect fill=\"white\" height=\"24\" stroke=\"black\" stroke-width=\"2\" width=\"29\" x=\"2863\" y=\"52\" /><text style=\"font-family: STIXMathJax_Main-Italic; font-size: 16px;\" x=\"2871\" y=\"69\">H</text><rect fill=\"white\" height=\"24\" stroke=\"black\" stroke-width=\"2\" width=\"29\" x=\"2951\" y=\"84\" /><text style=\"font-family: STIXMathJax_Main-Italic; font-size: 16px;\" x=\"2959\" y=\"101\">H</text><rect fill=\"white\" height=\"24\" stroke=\"black\" stroke-width=\"2\" width=\"29\" x=\"2951\" y=\"116\" /><text style=\"font-family: STIXMathJax_Main-Italic; font-size: 16px;\" x=\"2959\" y=\"133\">H</text><line stroke=\"rgb(0,0,0)\" x1=\"3006\" x2=\"3006\" y1=\"96\" y2=\"128\" /><circle cx=\"3006\" cy=\"128\" fill=\"black\" r=\"4\" /><g><circle cx=\"3006\" cy=\"96\" fill=\"white\" r=\"8\" stroke=\"black\" stroke-width=\"1\" /><line stroke=\"rgb(0,0,0)\" x1=\"2998\" x2=\"3014\" y1=\"96\" y2=\"96\" /><line stroke=\"rgb(0,0,0)\" x1=\"3006\" x2=\"3006\" y1=\"88\" y2=\"104\" /></g><line stroke=\"rgb(0,0,0)\" x1=\"3048\" x2=\"3048\" y1=\"64\" y2=\"96\" /><circle cx=\"3048\" cy=\"96\" fill=\"black\" r=\"4\" /><g><circle cx=\"3048\" cy=\"64\" fill=\"white\" r=\"8\" stroke=\"black\" stroke-width=\"1\" /><line stroke=\"rgb(0,0,0)\" x1=\"3040\" x2=\"3056\" y1=\"64\" y2=\"64\" /><line stroke=\"rgb(0,0,0)\" x1=\"3048\" x2=\"3048\" y1=\"56\" y2=\"72\" /></g><line stroke=\"rgb(0,0,0)\" x1=\"3090\" x2=\"3090\" y1=\"32\" y2=\"64\" /><circle cx=\"3090\" cy=\"64\" fill=\"black\" r=\"4\" /><g><circle cx=\"3090\" cy=\"32\" fill=\"white\" r=\"8\" stroke=\"black\" stroke-width=\"1\" /><line stroke=\"rgb(0,0,0)\" x1=\"3082\" x2=\"3098\" y1=\"32\" y2=\"32\" /><line stroke=\"rgb(0,0,0)\" x1=\"3090\" x2=\"3090\" y1=\"24\" y2=\"40\" /></g><rect fill=\"white\" height=\"24\" stroke=\"black\" stroke-width=\"2\" width=\"207\" x=\"3116\" y=\"20\" /><text style=\"font-family: STIXMathJax_Main-Italic; font-size: 16px;\" x=\"3124\" y=\"37\">RZ [(2.0 * (0.125 * theta_2))]</text><line stroke=\"rgb(0,0,0)\" x1=\"3349\" x2=\"3349\" y1=\"32\" y2=\"64\" /><circle cx=\"3349\" cy=\"64\" fill=\"black\" r=\"4\" /><g><circle cx=\"3349\" cy=\"32\" fill=\"white\" r=\"8\" stroke=\"black\" stroke-width=\"1\" /><line stroke=\"rgb(0,0,0)\" x1=\"3341\" x2=\"3357\" y1=\"32\" y2=\"32\" /><line stroke=\"rgb(0,0,0)\" x1=\"3349\" x2=\"3349\" y1=\"24\" y2=\"40\" /></g><line stroke=\"rgb(0,0,0)\" x1=\"3391\" x2=\"3391\" y1=\"64\" y2=\"96\" /><circle cx=\"3391\" cy=\"96\" fill=\"black\" r=\"4\" /><g><circle cx=\"3391\" cy=\"64\" fill=\"white\" r=\"8\" stroke=\"black\" stroke-width=\"1\" /><line stroke=\"rgb(0,0,0)\" x1=\"3383\" x2=\"3399\" y1=\"64\" y2=\"64\" /><line stroke=\"rgb(0,0,0)\" x1=\"3391\" x2=\"3391\" y1=\"56\" y2=\"72\" /></g><rect fill=\"white\" height=\"24\" stroke=\"black\" stroke-width=\"2\" width=\"78\" x=\"3375\" y=\"20\" /><text style=\"font-family: STIXMathJax_Main-Italic; font-size: 16px;\" x=\"3383\" y=\"37\">RX [-π/2]</text><line stroke=\"rgb(0,0,0)\" x1=\"3479\" x2=\"3479\" y1=\"96\" y2=\"128\" /><circle cx=\"3479\" cy=\"128\" fill=\"black\" r=\"4\" /><g><circle cx=\"3479\" cy=\"96\" fill=\"white\" r=\"8\" stroke=\"black\" stroke-width=\"1\" /><line stroke=\"rgb(0,0,0)\" x1=\"3471\" x2=\"3487\" y1=\"96\" y2=\"96\" /><line stroke=\"rgb(0,0,0)\" x1=\"3479\" x2=\"3479\" y1=\"88\" y2=\"104\" /></g><rect fill=\"white\" height=\"24\" stroke=\"black\" stroke-width=\"2\" width=\"29\" x=\"3463\" y=\"52\" /><text style=\"font-family: STIXMathJax_Main-Italic; font-size: 16px;\" x=\"3471\" y=\"69\">H</text><rect fill=\"white\" height=\"24\" stroke=\"black\" stroke-width=\"2\" width=\"73\" x=\"3463\" y=\"20\" /><text style=\"font-family: STIXMathJax_Main-Italic; font-size: 16px;\" x=\"3471\" y=\"37\">RX [π/2]</text><rect fill=\"white\" height=\"24\" stroke=\"black\" stroke-width=\"2\" width=\"29\" x=\"3546\" y=\"116\" /><text style=\"font-family: STIXMathJax_Main-Italic; font-size: 16px;\" x=\"3554\" y=\"133\">H</text><rect fill=\"white\" height=\"24\" stroke=\"black\" stroke-width=\"2\" width=\"29\" x=\"3546\" y=\"84\" /><text style=\"font-family: STIXMathJax_Main-Italic; font-size: 16px;\" x=\"3554\" y=\"101\">H</text><rect fill=\"white\" height=\"24\" stroke=\"black\" stroke-width=\"2\" width=\"73\" x=\"3546\" y=\"52\" /><text style=\"font-family: STIXMathJax_Main-Italic; font-size: 16px;\" x=\"3554\" y=\"69\">RX [π/2]</text><rect fill=\"white\" height=\"24\" stroke=\"black\" stroke-width=\"2\" width=\"73\" x=\"3629\" y=\"84\" /><text style=\"font-family: STIXMathJax_Main-Italic; font-size: 16px;\" x=\"3637\" y=\"101\">RX [π/2]</text><rect fill=\"white\" height=\"24\" stroke=\"black\" stroke-width=\"2\" width=\"29\" x=\"3629\" y=\"116\" /><text style=\"font-family: STIXMathJax_Main-Italic; font-size: 16px;\" x=\"3637\" y=\"133\">H</text><line stroke=\"rgb(0,0,0)\" x1=\"3728\" x2=\"3728\" y1=\"96\" y2=\"128\" /><circle cx=\"3728\" cy=\"128\" fill=\"black\" r=\"4\" /><g><circle cx=\"3728\" cy=\"96\" fill=\"white\" r=\"8\" stroke=\"black\" stroke-width=\"1\" /><line stroke=\"rgb(0,0,0)\" x1=\"3720\" x2=\"3736\" y1=\"96\" y2=\"96\" /><line stroke=\"rgb(0,0,0)\" x1=\"3728\" x2=\"3728\" y1=\"88\" y2=\"104\" /></g><line stroke=\"rgb(0,0,0)\" x1=\"3770\" x2=\"3770\" y1=\"64\" y2=\"96\" /><circle cx=\"3770\" cy=\"96\" fill=\"black\" r=\"4\" /><g><circle cx=\"3770\" cy=\"64\" fill=\"white\" r=\"8\" stroke=\"black\" stroke-width=\"1\" /><line stroke=\"rgb(0,0,0)\" x1=\"3762\" x2=\"3778\" y1=\"64\" y2=\"64\" /><line stroke=\"rgb(0,0,0)\" x1=\"3770\" x2=\"3770\" y1=\"56\" y2=\"72\" /></g><line stroke=\"rgb(0,0,0)\" x1=\"3812\" x2=\"3812\" y1=\"32\" y2=\"64\" /><circle cx=\"3812\" cy=\"64\" fill=\"black\" r=\"4\" /><g><circle cx=\"3812\" cy=\"32\" fill=\"white\" r=\"8\" stroke=\"black\" stroke-width=\"1\" /><line stroke=\"rgb(0,0,0)\" x1=\"3804\" x2=\"3820\" y1=\"32\" y2=\"32\" /><line stroke=\"rgb(0,0,0)\" x1=\"3812\" x2=\"3812\" y1=\"24\" y2=\"40\" /></g><rect fill=\"white\" height=\"24\" stroke=\"black\" stroke-width=\"2\" width=\"207\" x=\"3838\" y=\"20\" /><text style=\"font-family: STIXMathJax_Main-Italic; font-size: 16px;\" x=\"3846\" y=\"37\">RZ [(2.0 * (0.125 * theta_2))]</text><line stroke=\"rgb(0,0,0)\" x1=\"4071\" x2=\"4071\" y1=\"32\" y2=\"64\" /><circle cx=\"4071\" cy=\"64\" fill=\"black\" r=\"4\" /><g><circle cx=\"4071\" cy=\"32\" fill=\"white\" r=\"8\" stroke=\"black\" stroke-width=\"1\" /><line stroke=\"rgb(0,0,0)\" x1=\"4063\" x2=\"4079\" y1=\"32\" y2=\"32\" /><line stroke=\"rgb(0,0,0)\" x1=\"4071\" x2=\"4071\" y1=\"24\" y2=\"40\" /></g><line stroke=\"rgb(0,0,0)\" x1=\"4113\" x2=\"4113\" y1=\"64\" y2=\"96\" /><circle cx=\"4113\" cy=\"96\" fill=\"black\" r=\"4\" /><g><circle cx=\"4113\" cy=\"64\" fill=\"white\" r=\"8\" stroke=\"black\" stroke-width=\"1\" /><line stroke=\"rgb(0,0,0)\" x1=\"4105\" x2=\"4121\" y1=\"64\" y2=\"64\" /><line stroke=\"rgb(0,0,0)\" x1=\"4113\" x2=\"4113\" y1=\"56\" y2=\"72\" /></g><rect fill=\"white\" height=\"24\" stroke=\"black\" stroke-width=\"2\" width=\"78\" x=\"4097\" y=\"20\" /><text style=\"font-family: STIXMathJax_Main-Italic; font-size: 16px;\" x=\"4105\" y=\"37\">RX [-π/2]</text><line stroke=\"rgb(0,0,0)\" x1=\"4201\" x2=\"4201\" y1=\"96\" y2=\"128\" /><circle cx=\"4201\" cy=\"128\" fill=\"black\" r=\"4\" /><g><circle cx=\"4201\" cy=\"96\" fill=\"white\" r=\"8\" stroke=\"black\" stroke-width=\"1\" /><line stroke=\"rgb(0,0,0)\" x1=\"4193\" x2=\"4209\" y1=\"96\" y2=\"96\" /><line stroke=\"rgb(0,0,0)\" x1=\"4201\" x2=\"4201\" y1=\"88\" y2=\"104\" /></g><rect fill=\"white\" height=\"24\" stroke=\"black\" stroke-width=\"2\" width=\"78\" x=\"4185\" y=\"52\" /><text style=\"font-family: STIXMathJax_Main-Italic; font-size: 16px;\" x=\"4193\" y=\"69\">RX [-π/2]</text><rect fill=\"white\" height=\"24\" stroke=\"black\" stroke-width=\"2\" width=\"73\" x=\"4185\" y=\"20\" /><text style=\"font-family: STIXMathJax_Main-Italic; font-size: 16px;\" x=\"4193\" y=\"37\">RX [π/2]</text><rect fill=\"white\" height=\"24\" stroke=\"black\" stroke-width=\"2\" width=\"29\" x=\"4273\" y=\"116\" /><text style=\"font-family: STIXMathJax_Main-Italic; font-size: 16px;\" x=\"4281\" y=\"133\">H</text><rect fill=\"white\" height=\"24\" stroke=\"black\" stroke-width=\"2\" width=\"78\" x=\"4273\" y=\"84\" /><text style=\"font-family: STIXMathJax_Main-Italic; font-size: 16px;\" x=\"4281\" y=\"101\">RX [-π/2]</text><rect fill=\"white\" height=\"24\" stroke=\"black\" stroke-width=\"2\" width=\"73\" x=\"4273\" y=\"52\" /><text style=\"font-family: STIXMathJax_Main-Italic; font-size: 16px;\" x=\"4281\" y=\"69\">RX [π/2]</text><rect fill=\"white\" height=\"24\" stroke=\"black\" stroke-width=\"2\" width=\"29\" x=\"4361\" y=\"84\" /><text style=\"font-family: STIXMathJax_Main-Italic; font-size: 16px;\" x=\"4369\" y=\"101\">H</text><rect fill=\"white\" height=\"24\" stroke=\"black\" stroke-width=\"2\" width=\"73\" x=\"4361\" y=\"116\" /><text style=\"font-family: STIXMathJax_Main-Italic; font-size: 16px;\" x=\"4369\" y=\"133\">RX [π/2]</text><line stroke=\"rgb(0,0,0)\" x1=\"4460\" x2=\"4460\" y1=\"96\" y2=\"128\" /><circle cx=\"4460\" cy=\"128\" fill=\"black\" r=\"4\" /><g><circle cx=\"4460\" cy=\"96\" fill=\"white\" r=\"8\" stroke=\"black\" stroke-width=\"1\" /><line stroke=\"rgb(0,0,0)\" x1=\"4452\" x2=\"4468\" y1=\"96\" y2=\"96\" /><line stroke=\"rgb(0,0,0)\" x1=\"4460\" x2=\"4460\" y1=\"88\" y2=\"104\" /></g><line stroke=\"rgb(0,0,0)\" x1=\"4502\" x2=\"4502\" y1=\"64\" y2=\"96\" /><circle cx=\"4502\" cy=\"96\" fill=\"black\" r=\"4\" /><g><circle cx=\"4502\" cy=\"64\" fill=\"white\" r=\"8\" stroke=\"black\" stroke-width=\"1\" /><line stroke=\"rgb(0,0,0)\" x1=\"4494\" x2=\"4510\" y1=\"64\" y2=\"64\" /><line stroke=\"rgb(0,0,0)\" x1=\"4502\" x2=\"4502\" y1=\"56\" y2=\"72\" /></g><line stroke=\"rgb(0,0,0)\" x1=\"4544\" x2=\"4544\" y1=\"32\" y2=\"64\" /><circle cx=\"4544\" cy=\"64\" fill=\"black\" r=\"4\" /><g><circle cx=\"4544\" cy=\"32\" fill=\"white\" r=\"8\" stroke=\"black\" stroke-width=\"1\" /><line stroke=\"rgb(0,0,0)\" x1=\"4536\" x2=\"4552\" y1=\"32\" y2=\"32\" /><line stroke=\"rgb(0,0,0)\" x1=\"4544\" x2=\"4544\" y1=\"24\" y2=\"40\" /></g><rect fill=\"white\" height=\"24\" stroke=\"black\" stroke-width=\"2\" width=\"207\" x=\"4570\" y=\"20\" /><text style=\"font-family: STIXMathJax_Main-Italic; font-size: 16px;\" x=\"4578\" y=\"37\">RZ [(2.0 * (0.125 * theta_2))]</text><line stroke=\"rgb(0,0,0)\" x1=\"4803\" x2=\"4803\" y1=\"32\" y2=\"64\" /><circle cx=\"4803\" cy=\"64\" fill=\"black\" r=\"4\" /><g><circle cx=\"4803\" cy=\"32\" fill=\"white\" r=\"8\" stroke=\"black\" stroke-width=\"1\" /><line stroke=\"rgb(0,0,0)\" x1=\"4795\" x2=\"4811\" y1=\"32\" y2=\"32\" /><line stroke=\"rgb(0,0,0)\" x1=\"4803\" x2=\"4803\" y1=\"24\" y2=\"40\" /></g><line stroke=\"rgb(0,0,0)\" x1=\"4845\" x2=\"4845\" y1=\"64\" y2=\"96\" /><circle cx=\"4845\" cy=\"96\" fill=\"black\" r=\"4\" /><g><circle cx=\"4845\" cy=\"64\" fill=\"white\" r=\"8\" stroke=\"black\" stroke-width=\"1\" /><line stroke=\"rgb(0,0,0)\" x1=\"4837\" x2=\"4853\" y1=\"64\" y2=\"64\" /><line stroke=\"rgb(0,0,0)\" x1=\"4845\" x2=\"4845\" y1=\"56\" y2=\"72\" /></g><rect fill=\"white\" height=\"24\" stroke=\"black\" stroke-width=\"2\" width=\"78\" x=\"4829\" y=\"20\" /><text style=\"font-family: STIXMathJax_Main-Italic; font-size: 16px;\" x=\"4837\" y=\"37\">RX [-π/2]</text><line stroke=\"rgb(0,0,0)\" x1=\"4933\" x2=\"4933\" y1=\"96\" y2=\"128\" /><circle cx=\"4933\" cy=\"128\" fill=\"black\" r=\"4\" /><g><circle cx=\"4933\" cy=\"96\" fill=\"white\" r=\"8\" stroke=\"black\" stroke-width=\"1\" /><line stroke=\"rgb(0,0,0)\" x1=\"4925\" x2=\"4941\" y1=\"96\" y2=\"96\" /><line stroke=\"rgb(0,0,0)\" x1=\"4933\" x2=\"4933\" y1=\"88\" y2=\"104\" /></g><rect fill=\"white\" height=\"24\" stroke=\"black\" stroke-width=\"2\" width=\"78\" x=\"4917\" y=\"52\" /><text style=\"font-family: STIXMathJax_Main-Italic; font-size: 16px;\" x=\"4925\" y=\"69\">RX [-π/2]</text><rect fill=\"white\" height=\"24\" stroke=\"black\" stroke-width=\"2\" width=\"29\" x=\"4917\" y=\"20\" /><text style=\"font-family: STIXMathJax_Main-Italic; font-size: 16px;\" x=\"4925\" y=\"37\">H</text><rect fill=\"white\" height=\"24\" stroke=\"black\" stroke-width=\"2\" width=\"78\" x=\"5005\" y=\"116\" /><text style=\"font-family: STIXMathJax_Main-Italic; font-size: 16px;\" x=\"5013\" y=\"133\">RX [-π/2]</text><rect fill=\"white\" height=\"24\" stroke=\"black\" stroke-width=\"2\" width=\"29\" x=\"5005\" y=\"84\" /><text style=\"font-family: STIXMathJax_Main-Italic; font-size: 16px;\" x=\"5013\" y=\"101\">H</text><rect fill=\"white\" height=\"24\" stroke=\"black\" stroke-width=\"2\" width=\"29\" x=\"5005\" y=\"52\" /><text style=\"font-family: STIXMathJax_Main-Italic; font-size: 16px;\" x=\"5013\" y=\"69\">H</text><rect fill=\"white\" height=\"24\" stroke=\"black\" stroke-width=\"2\" width=\"73\" x=\"5093\" y=\"84\" /><text style=\"font-family: STIXMathJax_Main-Italic; font-size: 16px;\" x=\"5101\" y=\"101\">RX [π/2]</text><rect fill=\"white\" height=\"24\" stroke=\"black\" stroke-width=\"2\" width=\"29\" x=\"5093\" y=\"116\" /><text style=\"font-family: STIXMathJax_Main-Italic; font-size: 16px;\" x=\"5101\" y=\"133\">H</text><line stroke=\"rgb(0,0,0)\" x1=\"5192\" x2=\"5192\" y1=\"96\" y2=\"128\" /><circle cx=\"5192\" cy=\"128\" fill=\"black\" r=\"4\" /><g><circle cx=\"5192\" cy=\"96\" fill=\"white\" r=\"8\" stroke=\"black\" stroke-width=\"1\" /><line stroke=\"rgb(0,0,0)\" x1=\"5184\" x2=\"5200\" y1=\"96\" y2=\"96\" /><line stroke=\"rgb(0,0,0)\" x1=\"5192\" x2=\"5192\" y1=\"88\" y2=\"104\" /></g><line stroke=\"rgb(0,0,0)\" x1=\"5234\" x2=\"5234\" y1=\"64\" y2=\"96\" /><circle cx=\"5234\" cy=\"96\" fill=\"black\" r=\"4\" /><g><circle cx=\"5234\" cy=\"64\" fill=\"white\" r=\"8\" stroke=\"black\" stroke-width=\"1\" /><line stroke=\"rgb(0,0,0)\" x1=\"5226\" x2=\"5242\" y1=\"64\" y2=\"64\" /><line stroke=\"rgb(0,0,0)\" x1=\"5234\" x2=\"5234\" y1=\"56\" y2=\"72\" /></g><line stroke=\"rgb(0,0,0)\" x1=\"5276\" x2=\"5276\" y1=\"32\" y2=\"64\" /><circle cx=\"5276\" cy=\"64\" fill=\"black\" r=\"4\" /><g><circle cx=\"5276\" cy=\"32\" fill=\"white\" r=\"8\" stroke=\"black\" stroke-width=\"1\" /><line stroke=\"rgb(0,0,0)\" x1=\"5268\" x2=\"5284\" y1=\"32\" y2=\"32\" /><line stroke=\"rgb(0,0,0)\" x1=\"5276\" x2=\"5276\" y1=\"24\" y2=\"40\" /></g><rect fill=\"white\" height=\"24\" stroke=\"black\" stroke-width=\"2\" width=\"212\" x=\"5302\" y=\"20\" /><text style=\"font-family: STIXMathJax_Main-Italic; font-size: 16px;\" x=\"5310\" y=\"37\">RZ [(2.0 * (-0.125 * theta_2))]</text><line stroke=\"rgb(0,0,0)\" x1=\"5540\" x2=\"5540\" y1=\"32\" y2=\"64\" /><circle cx=\"5540\" cy=\"64\" fill=\"black\" r=\"4\" /><g><circle cx=\"5540\" cy=\"32\" fill=\"white\" r=\"8\" stroke=\"black\" stroke-width=\"1\" /><line stroke=\"rgb(0,0,0)\" x1=\"5532\" x2=\"5548\" y1=\"32\" y2=\"32\" /><line stroke=\"rgb(0,0,0)\" x1=\"5540\" x2=\"5540\" y1=\"24\" y2=\"40\" /></g><line stroke=\"rgb(0,0,0)\" x1=\"5582\" x2=\"5582\" y1=\"64\" y2=\"96\" /><circle cx=\"5582\" cy=\"96\" fill=\"black\" r=\"4\" /><g><circle cx=\"5582\" cy=\"64\" fill=\"white\" r=\"8\" stroke=\"black\" stroke-width=\"1\" /><line stroke=\"rgb(0,0,0)\" x1=\"5574\" x2=\"5590\" y1=\"64\" y2=\"64\" /><line stroke=\"rgb(0,0,0)\" x1=\"5582\" x2=\"5582\" y1=\"56\" y2=\"72\" /></g><rect fill=\"white\" height=\"24\" stroke=\"black\" stroke-width=\"2\" width=\"29\" x=\"5566\" y=\"20\" /><text style=\"font-family: STIXMathJax_Main-Italic; font-size: 16px;\" x=\"5574\" y=\"37\">H</text><line stroke=\"rgb(0,0,0)\" x1=\"5624\" x2=\"5624\" y1=\"96\" y2=\"128\" /><circle cx=\"5624\" cy=\"128\" fill=\"black\" r=\"4\" /><g><circle cx=\"5624\" cy=\"96\" fill=\"white\" r=\"8\" stroke=\"black\" stroke-width=\"1\" /><line stroke=\"rgb(0,0,0)\" x1=\"5616\" x2=\"5632\" y1=\"96\" y2=\"96\" /><line stroke=\"rgb(0,0,0)\" x1=\"5624\" x2=\"5624\" y1=\"88\" y2=\"104\" /></g><rect fill=\"white\" height=\"24\" stroke=\"black\" stroke-width=\"2\" width=\"29\" x=\"5608\" y=\"52\" /><text style=\"font-family: STIXMathJax_Main-Italic; font-size: 16px;\" x=\"5616\" y=\"69\">H</text><rect fill=\"white\" height=\"24\" stroke=\"black\" stroke-width=\"2\" width=\"29\" x=\"5608\" y=\"20\" /><text style=\"font-family: STIXMathJax_Main-Italic; font-size: 16px;\" x=\"5616\" y=\"37\">H</text><rect fill=\"white\" height=\"24\" stroke=\"black\" stroke-width=\"2\" width=\"29\" x=\"5650\" y=\"116\" /><text style=\"font-family: STIXMathJax_Main-Italic; font-size: 16px;\" x=\"5658\" y=\"133\">H</text><rect fill=\"white\" height=\"24\" stroke=\"black\" stroke-width=\"2\" width=\"78\" x=\"5650\" y=\"84\" /><text style=\"font-family: STIXMathJax_Main-Italic; font-size: 16px;\" x=\"5658\" y=\"101\">RX [-π/2]</text><rect fill=\"white\" height=\"24\" stroke=\"black\" stroke-width=\"2\" width=\"29\" x=\"5650\" y=\"52\" /><text style=\"font-family: STIXMathJax_Main-Italic; font-size: 16px;\" x=\"5658\" y=\"69\">H</text><rect fill=\"white\" height=\"24\" stroke=\"black\" stroke-width=\"2\" width=\"29\" x=\"5738\" y=\"84\" /><text style=\"font-family: STIXMathJax_Main-Italic; font-size: 16px;\" x=\"5746\" y=\"101\">H</text><rect fill=\"white\" height=\"24\" stroke=\"black\" stroke-width=\"2\" width=\"73\" x=\"5738\" y=\"116\" /><text style=\"font-family: STIXMathJax_Main-Italic; font-size: 16px;\" x=\"5746\" y=\"133\">RX [π/2]</text><line stroke=\"rgb(0,0,0)\" x1=\"5837\" x2=\"5837\" y1=\"96\" y2=\"128\" /><circle cx=\"5837\" cy=\"128\" fill=\"black\" r=\"4\" /><g><circle cx=\"5837\" cy=\"96\" fill=\"white\" r=\"8\" stroke=\"black\" stroke-width=\"1\" /><line stroke=\"rgb(0,0,0)\" x1=\"5829\" x2=\"5845\" y1=\"96\" y2=\"96\" /><line stroke=\"rgb(0,0,0)\" x1=\"5837\" x2=\"5837\" y1=\"88\" y2=\"104\" /></g><line stroke=\"rgb(0,0,0)\" x1=\"5879\" x2=\"5879\" y1=\"64\" y2=\"96\" /><circle cx=\"5879\" cy=\"96\" fill=\"black\" r=\"4\" /><g><circle cx=\"5879\" cy=\"64\" fill=\"white\" r=\"8\" stroke=\"black\" stroke-width=\"1\" /><line stroke=\"rgb(0,0,0)\" x1=\"5871\" x2=\"5887\" y1=\"64\" y2=\"64\" /><line stroke=\"rgb(0,0,0)\" x1=\"5879\" x2=\"5879\" y1=\"56\" y2=\"72\" /></g><line stroke=\"rgb(0,0,0)\" x1=\"5921\" x2=\"5921\" y1=\"32\" y2=\"64\" /><circle cx=\"5921\" cy=\"64\" fill=\"black\" r=\"4\" /><g><circle cx=\"5921\" cy=\"32\" fill=\"white\" r=\"8\" stroke=\"black\" stroke-width=\"1\" /><line stroke=\"rgb(0,0,0)\" x1=\"5913\" x2=\"5929\" y1=\"32\" y2=\"32\" /><line stroke=\"rgb(0,0,0)\" x1=\"5921\" x2=\"5921\" y1=\"24\" y2=\"40\" /></g><rect fill=\"white\" height=\"24\" stroke=\"black\" stroke-width=\"2\" width=\"212\" x=\"5947\" y=\"20\" /><text style=\"font-family: STIXMathJax_Main-Italic; font-size: 16px;\" x=\"5955\" y=\"37\">RZ [(2.0 * (-0.125 * theta_2))]</text><line stroke=\"rgb(0,0,0)\" x1=\"6185\" x2=\"6185\" y1=\"32\" y2=\"64\" /><circle cx=\"6185\" cy=\"64\" fill=\"black\" r=\"4\" /><g><circle cx=\"6185\" cy=\"32\" fill=\"white\" r=\"8\" stroke=\"black\" stroke-width=\"1\" /><line stroke=\"rgb(0,0,0)\" x1=\"6177\" x2=\"6193\" y1=\"32\" y2=\"32\" /><line stroke=\"rgb(0,0,0)\" x1=\"6185\" x2=\"6185\" y1=\"24\" y2=\"40\" /></g><line stroke=\"rgb(0,0,0)\" x1=\"6227\" x2=\"6227\" y1=\"64\" y2=\"96\" /><circle cx=\"6227\" cy=\"96\" fill=\"black\" r=\"4\" /><g><circle cx=\"6227\" cy=\"64\" fill=\"white\" r=\"8\" stroke=\"black\" stroke-width=\"1\" /><line stroke=\"rgb(0,0,0)\" x1=\"6219\" x2=\"6235\" y1=\"64\" y2=\"64\" /><line stroke=\"rgb(0,0,0)\" x1=\"6227\" x2=\"6227\" y1=\"56\" y2=\"72\" /></g><rect fill=\"white\" height=\"24\" stroke=\"black\" stroke-width=\"2\" width=\"29\" x=\"6211\" y=\"20\" /><text style=\"font-family: STIXMathJax_Main-Italic; font-size: 16px;\" x=\"6219\" y=\"37\">H</text><line stroke=\"rgb(0,0,0)\" x1=\"6269\" x2=\"6269\" y1=\"96\" y2=\"128\" /><circle cx=\"6269\" cy=\"128\" fill=\"black\" r=\"4\" /><g><circle cx=\"6269\" cy=\"96\" fill=\"white\" r=\"8\" stroke=\"black\" stroke-width=\"1\" /><line stroke=\"rgb(0,0,0)\" x1=\"6261\" x2=\"6277\" y1=\"96\" y2=\"96\" /><line stroke=\"rgb(0,0,0)\" x1=\"6269\" x2=\"6269\" y1=\"88\" y2=\"104\" /></g><rect fill=\"white\" height=\"24\" stroke=\"black\" stroke-width=\"2\" width=\"29\" x=\"6253\" y=\"52\" /><text style=\"font-family: STIXMathJax_Main-Italic; font-size: 16px;\" x=\"6261\" y=\"69\">H</text><rect fill=\"white\" height=\"24\" stroke=\"black\" stroke-width=\"2\" width=\"29\" x=\"6253\" y=\"20\" /><text style=\"font-family: STIXMathJax_Main-Italic; font-size: 16px;\" x=\"6261\" y=\"37\">H</text><rect fill=\"white\" height=\"24\" stroke=\"black\" stroke-width=\"2\" width=\"78\" x=\"6295\" y=\"116\" /><text style=\"font-family: STIXMathJax_Main-Italic; font-size: 16px;\" x=\"6303\" y=\"133\">RX [-π/2]</text><rect fill=\"white\" height=\"24\" stroke=\"black\" stroke-width=\"2\" width=\"29\" x=\"6295\" y=\"84\" /><text style=\"font-family: STIXMathJax_Main-Italic; font-size: 16px;\" x=\"6303\" y=\"101\">H</text><rect fill=\"white\" height=\"24\" stroke=\"black\" stroke-width=\"2\" width=\"73\" x=\"6295\" y=\"52\" /><text style=\"font-family: STIXMathJax_Main-Italic; font-size: 16px;\" x=\"6303\" y=\"69\">RX [π/2]</text><rect fill=\"white\" height=\"24\" stroke=\"black\" stroke-width=\"2\" width=\"73\" x=\"6383\" y=\"84\" /><text style=\"font-family: STIXMathJax_Main-Italic; font-size: 16px;\" x=\"6391\" y=\"101\">RX [π/2]</text><rect fill=\"white\" height=\"24\" stroke=\"black\" stroke-width=\"2\" width=\"73\" x=\"6383\" y=\"116\" /><text style=\"font-family: STIXMathJax_Main-Italic; font-size: 16px;\" x=\"6391\" y=\"133\">RX [π/2]</text><line stroke=\"rgb(0,0,0)\" x1=\"6482\" x2=\"6482\" y1=\"96\" y2=\"128\" /><circle cx=\"6482\" cy=\"128\" fill=\"black\" r=\"4\" /><g><circle cx=\"6482\" cy=\"96\" fill=\"white\" r=\"8\" stroke=\"black\" stroke-width=\"1\" /><line stroke=\"rgb(0,0,0)\" x1=\"6474\" x2=\"6490\" y1=\"96\" y2=\"96\" /><line stroke=\"rgb(0,0,0)\" x1=\"6482\" x2=\"6482\" y1=\"88\" y2=\"104\" /></g><line stroke=\"rgb(0,0,0)\" x1=\"6524\" x2=\"6524\" y1=\"64\" y2=\"96\" /><circle cx=\"6524\" cy=\"96\" fill=\"black\" r=\"4\" /><g><circle cx=\"6524\" cy=\"64\" fill=\"white\" r=\"8\" stroke=\"black\" stroke-width=\"1\" /><line stroke=\"rgb(0,0,0)\" x1=\"6516\" x2=\"6532\" y1=\"64\" y2=\"64\" /><line stroke=\"rgb(0,0,0)\" x1=\"6524\" x2=\"6524\" y1=\"56\" y2=\"72\" /></g><line stroke=\"rgb(0,0,0)\" x1=\"6566\" x2=\"6566\" y1=\"32\" y2=\"64\" /><circle cx=\"6566\" cy=\"64\" fill=\"black\" r=\"4\" /><g><circle cx=\"6566\" cy=\"32\" fill=\"white\" r=\"8\" stroke=\"black\" stroke-width=\"1\" /><line stroke=\"rgb(0,0,0)\" x1=\"6558\" x2=\"6574\" y1=\"32\" y2=\"32\" /><line stroke=\"rgb(0,0,0)\" x1=\"6566\" x2=\"6566\" y1=\"24\" y2=\"40\" /></g><rect fill=\"white\" height=\"24\" stroke=\"black\" stroke-width=\"2\" width=\"212\" x=\"6592\" y=\"20\" /><text style=\"font-family: STIXMathJax_Main-Italic; font-size: 16px;\" x=\"6600\" y=\"37\">RZ [(2.0 * (-0.125 * theta_2))]</text><line stroke=\"rgb(0,0,0)\" x1=\"6830\" x2=\"6830\" y1=\"32\" y2=\"64\" /><circle cx=\"6830\" cy=\"64\" fill=\"black\" r=\"4\" /><g><circle cx=\"6830\" cy=\"32\" fill=\"white\" r=\"8\" stroke=\"black\" stroke-width=\"1\" /><line stroke=\"rgb(0,0,0)\" x1=\"6822\" x2=\"6838\" y1=\"32\" y2=\"32\" /><line stroke=\"rgb(0,0,0)\" x1=\"6830\" x2=\"6830\" y1=\"24\" y2=\"40\" /></g><line stroke=\"rgb(0,0,0)\" x1=\"6872\" x2=\"6872\" y1=\"64\" y2=\"96\" /><circle cx=\"6872\" cy=\"96\" fill=\"black\" r=\"4\" /><g><circle cx=\"6872\" cy=\"64\" fill=\"white\" r=\"8\" stroke=\"black\" stroke-width=\"1\" /><line stroke=\"rgb(0,0,0)\" x1=\"6864\" x2=\"6880\" y1=\"64\" y2=\"64\" /><line stroke=\"rgb(0,0,0)\" x1=\"6872\" x2=\"6872\" y1=\"56\" y2=\"72\" /></g><rect fill=\"white\" height=\"24\" stroke=\"black\" stroke-width=\"2\" width=\"29\" x=\"6856\" y=\"20\" /><text style=\"font-family: STIXMathJax_Main-Italic; font-size: 16px;\" x=\"6864\" y=\"37\">H</text><line stroke=\"rgb(0,0,0)\" x1=\"6914\" x2=\"6914\" y1=\"96\" y2=\"128\" /><circle cx=\"6914\" cy=\"128\" fill=\"black\" r=\"4\" /><g><circle cx=\"6914\" cy=\"96\" fill=\"white\" r=\"8\" stroke=\"black\" stroke-width=\"1\" /><line stroke=\"rgb(0,0,0)\" x1=\"6906\" x2=\"6922\" y1=\"96\" y2=\"96\" /><line stroke=\"rgb(0,0,0)\" x1=\"6914\" x2=\"6914\" y1=\"88\" y2=\"104\" /></g><rect fill=\"white\" height=\"24\" stroke=\"black\" stroke-width=\"2\" width=\"78\" x=\"6898\" y=\"52\" /><text style=\"font-family: STIXMathJax_Main-Italic; font-size: 16px;\" x=\"6906\" y=\"69\">RX [-π/2]</text><rect fill=\"white\" height=\"24\" stroke=\"black\" stroke-width=\"2\" width=\"29\" x=\"6898\" y=\"20\" /><text style=\"font-family: STIXMathJax_Main-Italic; font-size: 16px;\" x=\"6906\" y=\"37\">H</text><rect fill=\"white\" height=\"24\" stroke=\"black\" stroke-width=\"2\" width=\"78\" x=\"6986\" y=\"116\" /><text style=\"font-family: STIXMathJax_Main-Italic; font-size: 16px;\" x=\"6994\" y=\"133\">RX [-π/2]</text><rect fill=\"white\" height=\"24\" stroke=\"black\" stroke-width=\"2\" width=\"78\" x=\"6986\" y=\"84\" /><text style=\"font-family: STIXMathJax_Main-Italic; font-size: 16px;\" x=\"6994\" y=\"101\">RX [-π/2]</text><rect fill=\"white\" height=\"24\" stroke=\"black\" stroke-width=\"2\" width=\"73\" x=\"6986\" y=\"52\" /><text style=\"font-family: STIXMathJax_Main-Italic; font-size: 16px;\" x=\"6994\" y=\"69\">RX [π/2]</text><rect fill=\"white\" height=\"24\" stroke=\"black\" stroke-width=\"2\" width=\"29\" x=\"7074\" y=\"84\" /><text style=\"font-family: STIXMathJax_Main-Italic; font-size: 16px;\" x=\"7082\" y=\"101\">H</text><rect fill=\"white\" height=\"24\" stroke=\"black\" stroke-width=\"2\" width=\"29\" x=\"7074\" y=\"116\" /><text style=\"font-family: STIXMathJax_Main-Italic; font-size: 16px;\" x=\"7082\" y=\"133\">H</text><line stroke=\"rgb(0,0,0)\" x1=\"7129\" x2=\"7129\" y1=\"96\" y2=\"128\" /><circle cx=\"7129\" cy=\"128\" fill=\"black\" r=\"4\" /><g><circle cx=\"7129\" cy=\"96\" fill=\"white\" r=\"8\" stroke=\"black\" stroke-width=\"1\" /><line stroke=\"rgb(0,0,0)\" x1=\"7121\" x2=\"7137\" y1=\"96\" y2=\"96\" /><line stroke=\"rgb(0,0,0)\" x1=\"7129\" x2=\"7129\" y1=\"88\" y2=\"104\" /></g><line stroke=\"rgb(0,0,0)\" x1=\"7171\" x2=\"7171\" y1=\"64\" y2=\"96\" /><circle cx=\"7171\" cy=\"96\" fill=\"black\" r=\"4\" /><g><circle cx=\"7171\" cy=\"64\" fill=\"white\" r=\"8\" stroke=\"black\" stroke-width=\"1\" /><line stroke=\"rgb(0,0,0)\" x1=\"7163\" x2=\"7179\" y1=\"64\" y2=\"64\" /><line stroke=\"rgb(0,0,0)\" x1=\"7171\" x2=\"7171\" y1=\"56\" y2=\"72\" /></g><line stroke=\"rgb(0,0,0)\" x1=\"7213\" x2=\"7213\" y1=\"32\" y2=\"64\" /><circle cx=\"7213\" cy=\"64\" fill=\"black\" r=\"4\" /><g><circle cx=\"7213\" cy=\"32\" fill=\"white\" r=\"8\" stroke=\"black\" stroke-width=\"1\" /><line stroke=\"rgb(0,0,0)\" x1=\"7205\" x2=\"7221\" y1=\"32\" y2=\"32\" /><line stroke=\"rgb(0,0,0)\" x1=\"7213\" x2=\"7213\" y1=\"24\" y2=\"40\" /></g><rect fill=\"white\" height=\"24\" stroke=\"black\" stroke-width=\"2\" width=\"207\" x=\"7239\" y=\"20\" /><text style=\"font-family: STIXMathJax_Main-Italic; font-size: 16px;\" x=\"7247\" y=\"37\">RZ [(2.0 * (0.125 * theta_2))]</text><line stroke=\"rgb(0,0,0)\" x1=\"7472\" x2=\"7472\" y1=\"32\" y2=\"64\" /><circle cx=\"7472\" cy=\"64\" fill=\"black\" r=\"4\" /><g><circle cx=\"7472\" cy=\"32\" fill=\"white\" r=\"8\" stroke=\"black\" stroke-width=\"1\" /><line stroke=\"rgb(0,0,0)\" x1=\"7464\" x2=\"7480\" y1=\"32\" y2=\"32\" /><line stroke=\"rgb(0,0,0)\" x1=\"7472\" x2=\"7472\" y1=\"24\" y2=\"40\" /></g><line stroke=\"rgb(0,0,0)\" x1=\"7514\" x2=\"7514\" y1=\"64\" y2=\"96\" /><circle cx=\"7514\" cy=\"96\" fill=\"black\" r=\"4\" /><g><circle cx=\"7514\" cy=\"64\" fill=\"white\" r=\"8\" stroke=\"black\" stroke-width=\"1\" /><line stroke=\"rgb(0,0,0)\" x1=\"7506\" x2=\"7522\" y1=\"64\" y2=\"64\" /><line stroke=\"rgb(0,0,0)\" x1=\"7514\" x2=\"7514\" y1=\"56\" y2=\"72\" /></g><rect fill=\"white\" height=\"24\" stroke=\"black\" stroke-width=\"2\" width=\"29\" x=\"7498\" y=\"20\" /><text style=\"font-family: STIXMathJax_Main-Italic; font-size: 16px;\" x=\"7506\" y=\"37\">H</text><line stroke=\"rgb(0,0,0)\" x1=\"7556\" x2=\"7556\" y1=\"96\" y2=\"128\" /><circle cx=\"7556\" cy=\"128\" fill=\"black\" r=\"4\" /><g><circle cx=\"7556\" cy=\"96\" fill=\"white\" r=\"8\" stroke=\"black\" stroke-width=\"1\" /><line stroke=\"rgb(0,0,0)\" x1=\"7548\" x2=\"7564\" y1=\"96\" y2=\"96\" /><line stroke=\"rgb(0,0,0)\" x1=\"7556\" x2=\"7556\" y1=\"88\" y2=\"104\" /></g><rect fill=\"white\" height=\"24\" stroke=\"black\" stroke-width=\"2\" width=\"78\" x=\"7540\" y=\"52\" /><text style=\"font-family: STIXMathJax_Main-Italic; font-size: 16px;\" x=\"7548\" y=\"69\">RX [-π/2]</text><rect fill=\"white\" height=\"24\" stroke=\"black\" stroke-width=\"2\" width=\"29\" x=\"7628\" y=\"116\" /><text style=\"font-family: STIXMathJax_Main-Italic; font-size: 16px;\" x=\"7636\" y=\"133\">H</text><rect fill=\"white\" height=\"24\" stroke=\"black\" stroke-width=\"2\" width=\"29\" x=\"7628\" y=\"84\" /><text style=\"font-family: STIXMathJax_Main-Italic; font-size: 16px;\" x=\"7636\" y=\"101\">H</text></svg>"
      ],
      "text/plain": [
       "<IPython.core.display.HTML object>"
      ]
     },
     "metadata": {},
     "output_type": "display_data"
    },
    {
     "name": "stdout",
     "output_type": "stream",
     "text": [
      "3\n"
     ]
    }
   ],
   "source": [
    "import numpy as np\n",
    "n_steps =1 \n",
    "prog = Program()\n",
    "\n",
    "theta_0 = [np.random.uniform(0, 2*np.pi) for i in range(len(cluster_ops) * n_steps)]\n",
    "theta = [prog.new_var(float, f\"\\\\theta_{i}\") for i in range(len(theta_0))]\n",
    "\n",
    "print(\"The initial HF state \", hf_init_sp)\n",
    "\n",
    "k_lst = [hf_init_sp]\n",
    "\n",
    "def create_circuit(k):\n",
    "    return k_ucc_ansatz(cluster_ops_sp, k, theta)\n",
    "\n",
    "\n",
    "# Create and store circuits in a list\n",
    "circuits_store = [create_circuit(k) for k in k_lst]\n",
    "\n",
    "# Display the circuits\n",
    "for circ_dis in circuits_store:\n",
    "    circ_dis.display()\n",
    "\n",
    "print(len(theta_0))\n",
    "# The circuits_store[0] should be the initial HF state"
   ]
  },
  {
   "cell_type": "code",
   "execution_count": 10,
   "metadata": {},
   "outputs": [
    {
     "name": "stdout",
     "output_type": "stream",
     "text": [
      "Optimization terminated successfully.\n",
      "         Current function value: -1.103248\n",
      "         Iterations: 10\n",
      "         Function evaluations: 44\n",
      "         Gradient evaluations: 11\n",
      "  message: Optimization terminated successfully.\n",
      "  success: True\n",
      "   status: 0\n",
      "      fun: -1.1032476612244926\n",
      "        x: [ 3.142e+00  3.142e+00  3.315e+00]\n",
      "      nit: 10\n",
      "      jac: [-2.980e-08 -2.980e-08 -2.980e-08]\n",
      " hess_inv: [[ 1.025e+00 -3.549e-01  4.454e-05]\n",
      "            [-3.549e-01  1.043e+00 -2.026e-03]\n",
      "            [ 4.454e-05 -2.026e-03  4.376e-01]]\n",
      "     nfev: 44\n",
      "     njev: 11\n"
     ]
    }
   ],
   "source": [
    "qpu = get_default_qpu()\n",
    "method = \"BFGS\"\n",
    "\n",
    "model = H_sp\n",
    "nqbits = model.nbqbits\n",
    "\n",
    "energy_lists = {f\"energy_circ_{i}\": {method: []} for i in range(len(circuits_store))}\n",
    "\n",
    "def opt_funct(circuits, model, qpu, nqbits, energy_lists):\n",
    "    \n",
    "    def input_funct(x):\n",
    "        total_energy = 0\n",
    "        for i, circ in enumerate(circuits):\n",
    "           \n",
    "            bound_circ = circ.bind_variables({k: v for k, v in zip(sorted(circ.get_variables()), x)})\n",
    "            job_exci_inp = bound_circ.to_job(job_type=\"OBS\", observable=model, nbshots=0)\n",
    "            result = qpu.submit(job_exci_inp)\n",
    "            energy = result.value\n",
    "            energy_lists[f\"energy_circ_{i}\"][method].append(energy)\n",
    "\n",
    "        return energy\n",
    "    \n",
    "    return input_funct\n",
    "\n",
    "circuits = circuits_store\n",
    "\n",
    "\n",
    "input_funct = opt_funct(circuits, model, qpu, nqbits, energy_lists)\n",
    "options = {\"disp\": True, \"maxiter\": 3500, \"gtol\": 1e-7}\n",
    "Optimizer = scipy.optimize.minimize(input_funct, x0=theta_0, method=method, options=options)\n",
    "\n",
    "print(Optimizer)\n",
    "\n",
    "\n"
   ]
  },
  {
   "cell_type": "code",
   "execution_count": 11,
   "metadata": {},
   "outputs": [
    {
     "name": "stdout",
     "output_type": "stream",
     "text": [
      "Final energy for k=1100: [-0.6540150570867311, -0.6540150649149339, -0.6540150491080039, -0.6540150481886853, -0.9050877621787297, -0.9050877604787017, -0.9050877628538574, -0.9050877743383022, -1.0909130985758106, -1.09091310002559, -1.090913097315699, -1.0909130986107223, -1.1015555895883895, -1.1015555898509195, -1.1015555893903493, -1.1015555883828914, -1.1032152294981246, -1.1032152295845732, -1.1032152294466886, -1.1032152294498263, -1.1032473325802157, -1.1032473325697847, -1.103247332577236, -1.1032473325696686, -1.1032476398380393, -1.1032476398403008, -1.1032476398409912, -1.1032476398386655, -1.1032476603270918, -1.1032476603269656, -1.103247660326511, -1.1032476603275492, -1.1032476612185795, -1.1032476612185542, -1.1032476612185915, -1.1032476612185182, -1.1032476612244728, -1.1032476612244748, -1.1032476612244744, -1.1032476612244744, -1.1032476612244926, -1.103247661224493, -1.103247661224493, -1.103247661224493]\n"
     ]
    },
    {
     "data": {
      "image/png": "[encoded data removed]",
      "text/plain": [
       "<Figure size 640x480 with 1 Axes>"
      ]
     },
     "metadata": {},
     "output_type": "display_data"
    }
   ],
   "source": [
    "import matplotlib.pyplot as plt\n",
    "# Plot energy\n",
    "plt.rcParams[\"font.size\"] = 18\n",
    "all_energy_lists = []\n",
    "\n",
    "for i in range(len(circuits_store)):\n",
    "    energy_list = energy_lists[f\"energy_circ_{i}\"][method]\n",
    "    all_energy_lists.append(energy_list)\n",
    "    plt.plot(range(len(energy_list)), energy_list, label=f\"Energy for k={binary_repr(k_lst[i]).zfill(4)}\", color='crimson')\n",
    "\n",
    "    # Print the final energy for each k\n",
    "    final_energy = energy_list\n",
    "    print(f\"Final energy for k={binary_repr(k_lst[i]).zfill(4)}: {final_energy}\")\n",
    "\n",
    "plt.xlabel(\"Iterations\")\n",
    "plt.ylabel(\"Energy\")\n",
    "plt.title(\"Energy Evolution\")\n",
    "plt.legend(bbox_to_anchor=(1.05, 1), loc='upper left', borderaxespad=0, fontsize=18)\n",
    "plt.grid(True)\n",
    "plt.show()"
   ]
  },
  {
   "cell_type": "code",
   "execution_count": 12,
   "metadata": {},
   "outputs": [
    {
     "name": "stdout",
     "output_type": "stream",
     "text": [
      "List of the update theta {'\\\\theta_0': 3.141592626018525, '\\\\theta_1': 3.141592644891882, '\\\\theta_2': 3.314949653887206}\n",
      "[{'state': |0011>, 'amplitude': (0.1724899979130716+0j)}, {'state': |0110>, 'amplitude': (8.697911376503411e-09+0j)}, {'state': |1001>, 'amplitude': (-2.7571267920465974e-08+0j)}, {'state': |1100>, 'amplitude': (-0.9850112692857583+0j)}]\n",
      "[ 0.00000000e+00+0.j  0.00000000e+00+0.j  0.00000000e+00+0.j\n",
      "  1.72489998e-01+0.j  0.00000000e+00+0.j  0.00000000e+00+0.j\n",
      "  8.69791138e-09+0.j  0.00000000e+00+0.j  0.00000000e+00+0.j\n",
      " -2.75712679e-08+0.j  0.00000000e+00+0.j  0.00000000e+00+0.j\n",
      " -9.85011269e-01+0.j  0.00000000e+00+0.j  0.00000000e+00+0.j\n",
      "  0.00000000e+00+0.j]\n"
     ]
    }
   ],
   "source": [
    "opt_circ_ground = circuits_store[0].bind_variables({k: v for k, v in zip(sorted(circuits_store[0].get_variables()), Optimizer.x)})\n",
    "#print(opt_circ_ground)\n",
    "theta_star = {k: v for k, v in zip(sorted(circuits_store[0].get_variables()), Optimizer.x)}\n",
    "print(\"List of the update theta\", theta_star)\n",
    "\n",
    "\n",
    "result = qpu.submit(opt_circ_ground.to_job())\n",
    "nbqbits = model.nbqbits\n",
    "\n",
    "def get_statevector(result, nbqbits):\n",
    "    statevector = []\n",
    "    for sample in result:\n",
    "        statevector.append({\n",
    "            'state': sample.state,\n",
    "            'amplitude': sample.amplitude\n",
    "        })\n",
    "    return statevector\n",
    "\n",
    "    \n",
    "\n",
    "def get_statevector_matrix(result, nbqbits):\n",
    "\n",
    "    statevector_mat = np.zeros((2**nbqbits), np.complex128)\n",
    "    for sample in result:\n",
    "        statevector_mat[sample.state.int] = sample.amplitude\n",
    "    return statevector_mat\n",
    "\n",
    "stv_ground = get_statevector(result, nbqbits)\n",
    "print(stv_ground)\n",
    "\n",
    "stv_ground_mat= get_statevector_matrix(result, nbqbits)\n",
    "print(stv_ground_mat)"
   ]
  },
  {
   "cell_type": "code",
   "execution_count": 13,
   "metadata": {},
   "outputs": [
    {
     "name": "stdout",
     "output_type": "stream",
     "text": [
      "+--------+------------------------------+\n",
      "| state  |          amplitude           |\n",
      "+--------+------------------------------+\n",
      "| |0011> |   (0.1724899979130716+0j)    |\n",
      "| |0110> |  (8.697911376503411e-09+0j)  |\n",
      "| |1001> | (-2.7571267920465974e-08+0j) |\n",
      "| |1100> |   (-0.9850112692857583+0j)   |\n",
      "+--------+------------------------------+\n"
     ]
    }
   ],
   "source": [
    "#More style\n",
    "from tabulate import tabulate\n",
    "\n",
    "# Print the statevector nicely in columns\n",
    "print(tabulate(stv_ground, headers=\"keys\", tablefmt=\"pretty\"))"
   ]
  },
  {
   "cell_type": "code",
   "execution_count": 14,
   "metadata": {},
   "outputs": [
    {
     "name": "stdout",
     "output_type": "stream",
     "text": [
      "         Current function value: -0.544217\n",
      "         Iterations: 15\n",
      "         Function evaluations: 148\n",
      "         Gradient evaluations: 37\n",
      "  message: Desired error not necessarily achieved due to precision loss.\n",
      "  success: False\n",
      "   status: 2\n",
      "      fun: -0.5442168782457298\n",
      "        x: [ 3.142e+00  4.712e+00  4.049e+00]\n",
      "      nit: 15\n",
      "      jac: [ 2.906e-07 -2.682e-07 -1.490e-08]\n",
      " hess_inv: [[ 1.415e-02 -1.398e-02  3.079e-02]\n",
      "            [-1.398e-02  1.411e-02 -3.075e-02]\n",
      "            [ 3.079e-02 -3.075e-02  7.970e-02]]\n",
      "     nfev: 148\n",
      "     njev: 37\n"
     ]
    },
    {
     "name": "stderr",
     "output_type": "stream",
     "text": [
      "/home/huybinh/.local/lib/python3.10/site-packages/scipy/optimize/_minimize.py:705: OptimizeWarning: Desired error not necessarily achieved due to precision loss.\n",
      "  res = _minimize_bfgs(fun, x0, args, jac, callback, **options)\n"
     ]
    }
   ],
   "source": [
    "qpu = get_default_qpu()\n",
    "method = \"BFGS\"\n",
    "\n",
    "model = H_sp\n",
    "def_stv = stv_ground_mat\n",
    "method = \"BFGS\"\n",
    "beta_small = 33\n",
    "nqbits = 4\n",
    "\n",
    "def get_statevector_matrix(result, nbqbits):\n",
    "    statevector_mat = np.zeros((2**nbqbits), np.complex128)\n",
    "    for sample in result:\n",
    "        statevector_mat[sample.state.int] = sample.amplitude\n",
    "    return statevector_mat\n",
    "\n",
    "def overlap(circ, def_stv):\n",
    "    qpu = get_default_qpu()\n",
    "    res = qpu.submit(circ.to_job())\n",
    "    statevector = get_statevector_matrix(res, nbqbits)\n",
    "    \n",
    "    # Check if the statevector is not None\n",
    "    if statevector is not None:\n",
    "        overlap_vals = abs(np.vdot(def_stv, statevector)) ** 2\n",
    "        return overlap_vals\n",
    "    else:\n",
    "        return None\n",
    "\n",
    "\n",
    "energy_lists = {f\"energy_circ_{i}\": {method: []} for i in range(len(circuits_store))}\n",
    "\n",
    "def opt_funct(circuits, model, qpu, nqbits, energy_lists, beta_small):\n",
    "    \n",
    "    def input_funct(x):\n",
    "        total_energy = 0\n",
    "        for i, circ in enumerate(circuits):\n",
    "            bound_circ = circ.bind_variables({k: v for k, v in zip(sorted(circ.get_variables()), x)})\n",
    "            job_exci_inp = bound_circ.to_job(job_type=\"OBS\", observable=model, nbshots=0)\n",
    "            result = qpu.submit(job_exci_inp)\n",
    "\n",
    "            \n",
    "            # Check if result.value is not None\n",
    "            if result.value is not None:\n",
    "                energy = result.value\n",
    "                energy_lists[f\"energy_circ_{i}\"][method].append(energy)\n",
    "                overlap_inp = overlap(bound_circ, def_stv)\n",
    "                \n",
    "\n",
    "                # Check if overlap_inp is not None\n",
    "                if overlap_inp is not None:\n",
    "                    total_energy = energy + beta_small * overlap_inp \n",
    "\n",
    "        return total_energy\n",
    "    \n",
    "\n",
    "    def callback(x):\n",
    "        \n",
    "        for i, circ in enumerate(circuits):\n",
    "            bound_circ = circ.bind_variables({k: v for k, v in zip(sorted(circ.get_variables()), x)})\n",
    "            job_exci_inp = bound_circ.to_job(job_type=\"OBS\", observable=model, nbshots=0)\n",
    "            result = qpu.submit(job_exci_inp)\n",
    "\n",
    "            \n",
    "            # Check if result.value is not None\n",
    "            if result.value is not None:\n",
    "                energy = result.value\n",
    "                energy_lists[f\"energy_circ_{i}\"][method].append(energy)\n",
    "                overlap_inp = overlap(bound_circ, def_stv)\n",
    "\n",
    "\n",
    "    return input_funct, callback\n",
    "    \n",
    "\n",
    "    \n",
    "\n",
    "circuits = circuits_store\n",
    "\n",
    "input_funct, callback = opt_funct(circuits, model, qpu, nqbits, energy_lists, beta_small)\n",
    "options = {\"disp\": True, \"maxiter\": 3500, \"gtol\": 1e-7}\n",
    "Optimizer = scipy.optimize.minimize(input_funct, x0=theta_0, method=method, callback=callback, options=options)\n",
    "\n",
    "print(Optimizer)"
   ]
  },
  {
   "cell_type": "code",
   "execution_count": 15,
   "metadata": {},
   "outputs": [
    {
     "name": "stdout",
     "output_type": "stream",
     "text": [
      "Final energy for k=1010: [-0.6540150570867311, -0.6540150649149339, -0.6540150491080039, -0.6540150481886853, -0.3784234732930285, -0.378423472515582, -0.37842347533674925, -0.37842348707902945, -0.28835821681187856, -0.28835822150793533, -0.28835821288808333, -0.2883582166080755, -0.28835821681187856, -0.33826327373650317, -0.3382632754750857, -0.3382632735155975, -0.3382632747648324, -0.31139336613841295, -0.31139336967725206, -0.3113933636849288, -0.31139336654026284, -0.31139336613841295, -0.3376169424849641, -0.3376169456912211, -0.33761694159163225, -0.33761694267685677, -0.3376169424849641, -0.3901847432423668, -0.39018474588086194, -0.3901847455979208, -0.3901847427675682, -0.39018474324236674, -0.4148327689554821, -0.41483277218079323, -0.41483277139219576, -0.414832768584499, -0.511396768608489, -0.5113967712323613, -0.5113967704556972, -0.5113967689590151, -0.46192994368413476, -0.4619299472236107, -0.4619299459835078, -0.4619299436299095, -0.49331463232864525, -0.49331463547726206, -0.4933146343707159, -0.4933146325380166, -0.49331463232864525, -0.37285198181702656, -0.3728519783735967, -0.3728519815559106, -0.37285198030274846, -0.5226143519153039, -0.5226143540207061, -0.5226143535380616, -0.5226143521195179, -0.5226143519153039, -0.5390901742001286, -0.539090175192024, -0.5390901751127026, -0.5390901742579501, -0.5390901742001286, -0.5289277848122022, -0.5289277835823192, -0.5289277828072374, -0.5289277851412719, -0.5440495949963581, -0.5440495951692006, -0.5440495951717261, -0.5440495949982327, -0.5440495949963581, -0.5441822307937555, -0.5441822307185891, -0.544182230709248, -0.5441822307942696, -0.5441822307937555, -0.5442165504637215, -0.5442165504715746, -0.5442165504711854, -0.5442165504637244, -0.5442165504637215, -0.5442168742953905, -0.5442168742963303, -0.5442168742961183, -0.5442168742953901, -0.5442168742953906, -0.5442168781671313, -0.5442168781672743, -0.5442168781672235, -0.5442168781671308, -0.5442168781671313, -0.5442168782457582, -0.5442168782457625, -0.544216878245759, -0.544216878245758, -0.5442168782457582, -0.5442168782457316, -0.5442168782457353, -0.5442168782457342, -0.5442168782457318, -0.5442168782457316, -0.5442168782457137, -0.5442168782457177, -0.544216878245717, -0.544216878245714, -0.5442168782457311, -0.5442168782457345, -0.5442168782457338, -0.5442168782457306, -0.5442168782457314, -0.5442168782457351, -0.5442168782457343, -0.5442168782457316, -0.5442168782457317, -0.5442168782457353, -0.5442168782457344, -0.5442168782457314, -0.5442168782457317, -0.5442168782457352, -0.5442168782457344, -0.5442168782457316, -0.5442168782457313, -0.5442168782457351, -0.5442168782457344, -0.5442168782457313, -0.5442168782457315, -0.5442168782457348, -0.5442168782457342, -0.5442168782457317, -0.5442168782457317, -0.5442168782457352, -0.5442168782457343, -0.5442168782457316, -0.544216878245732, -0.5442168782457352, -0.5442168782457342, -0.544216878245732, -0.5442168782457318, -0.5442168782457352, -0.5442168782457341, -0.5442168782457316, -0.544216878245732, -0.5442168782457352, -0.5442168782457342, -0.544216878245732, -0.5442168782457315, -0.5442168782457351, -0.544216878245734, -0.5442168782457316, -0.544216878245732, -0.5442168782457352, -0.5442168782457343, -0.544216878245732, -0.544216878245732, -0.544216878245735, -0.544216878245734, -0.5442168782457316, -0.5442168782457316, -0.5442168782457354, -0.5442168782457343, -0.5442168782457318, -0.5442168782457316]\n"
     ]
    },
    {
     "data": {
      "image/png": "[encoded data removed]",
      "text/plain": [
       "<Figure size 640x480 with 1 Axes>"
      ]
     },
     "metadata": {},
     "output_type": "display_data"
    }
   ],
   "source": [
    "# Plot energy\n",
    "plt.rcParams[\"font.size\"] = 18\n",
    "all_energy_lists = []\n",
    "\n",
    "for i in range(len(circuits_store)):\n",
    "    energy_list = energy_lists[f\"energy_circ_{i}\"][method]\n",
    "    all_energy_lists.append(energy_list)\n",
    "    plt.plot(range(len(energy_list)), energy_list, label=f\"Energy for k={binary_repr(10).zfill(4)}\", color = 'green')\n",
    "\n",
    "    # Print the final energy for each k\n",
    "    final_energy = energy_list\n",
    "    print(f\"Final energy for k={binary_repr(10).zfill(4)}: {final_energy}\")\n",
    "\n",
    "plt.xlabel(\"Iterations\")\n",
    "plt.ylabel(\"Energy\")\n",
    "plt.title(\"Energy Evolution\")\n",
    "plt.legend(bbox_to_anchor=(1.05, 1), loc='upper left', borderaxespad=0, fontsize=18)\n",
    "plt.show()"
   ]
  },
  {
   "cell_type": "code",
   "execution_count": 16,
   "metadata": {},
   "outputs": [
    {
     "name": "stdout",
     "output_type": "stream",
     "text": [
      "[ 0.00000000e+00+0.j  0.00000000e+00+0.j  0.00000000e+00+0.j\n",
      "  3.61506131e-07+0.j  0.00000000e+00+0.j  0.00000000e+00+0.j\n",
      " -1.00000000e+00+0.j  0.00000000e+00+0.j  0.00000000e+00+0.j\n",
      "  0.00000000e+00+0.j  0.00000000e+00+0.j  0.00000000e+00+0.j\n",
      "  4.70467898e-08+0.j  0.00000000e+00+0.j  0.00000000e+00+0.j\n",
      "  0.00000000e+00+0.j]\n"
     ]
    }
   ],
   "source": [
    "opt_circ_exci = circuits_store[0].bind_variables({k: v for k, v in zip(sorted(circuits_store[0].get_variables()), Optimizer.x)})\n",
    "\n",
    "\n",
    "result = qpu.submit(opt_circ_exci.to_job())\n",
    "nbqbits = model.nbqbits\n",
    "\n",
    "stv_exci = get_statevector(result, nbqbits)\n",
    "\n",
    "stv_exci_mat= get_statevector_matrix(result, nbqbits)\n",
    "print(stv_exci_mat)"
   ]
  },
  {
   "cell_type": "code",
   "execution_count": 17,
   "metadata": {},
   "outputs": [
    {
     "name": "stdout",
     "output_type": "stream",
     "text": [
      "+--------+----------------------------+\n",
      "| state  |         amplitude          |\n",
      "+--------+----------------------------+\n",
      "| |0011> | (3.615061305514699e-07+0j) |\n",
      "| |0110> |  (-0.9999999999999298+0j)  |\n",
      "| |1100> | (4.704678983726481e-08+0j) |\n",
      "+--------+----------------------------+\n"
     ]
    }
   ],
   "source": [
    "#More style\n",
    "from tabulate import tabulate\n",
    "\n",
    "# Print the statevector nicely in columns\n",
    "print(tabulate(stv_exci, headers=\"keys\", tablefmt=\"pretty\"))"
   ]
  },
  {
   "cell_type": "code",
   "execution_count": 18,
   "metadata": {},
   "outputs": [
    {
     "name": "stdout",
     "output_type": "stream",
     "text": [
      "         Current function value: -0.544217\n",
      "         Iterations: 16\n",
      "         Function evaluations: 220\n",
      "         Gradient evaluations: 52\n",
      "  message: Desired error not necessarily achieved due to precision loss.\n",
      "  success: False\n",
      "   status: 2\n",
      "      fun: -0.5442168782457716\n",
      "        x: [ 1.571e+00 -1.349e-07  3.586e+00]\n",
      "      nit: 16\n",
      "      jac: [-2.161e-07  1.118e-07  0.000e+00]\n",
      " hess_inv: [[ 9.916e-03  2.613e-02 -1.206e-03]\n",
      "            [ 2.613e-02  1.449e-01 -7.659e-03]\n",
      "            [-1.206e-03 -7.659e-03  1.102e-02]]\n",
      "     nfev: 220\n",
      "     njev: 52\n"
     ]
    },
    {
     "name": "stderr",
     "output_type": "stream",
     "text": [
      "/home/huybinh/.local/lib/python3.10/site-packages/scipy/optimize/_minimize.py:705: OptimizeWarning: Desired error not necessarily achieved due to precision loss.\n",
      "  res = _minimize_bfgs(fun, x0, args, jac, callback, **options)\n"
     ]
    }
   ],
   "source": [
    "qpu = get_default_qpu()\n",
    "method = \"BFGS\"\n",
    "\n",
    "model = H_sp\n",
    "def_stv = stv_ground_mat\n",
    "def_stv_exci = stv_exci_mat\n",
    "\n",
    "beta_small = 33\n",
    "beta_big = 44\n",
    "nqbits = 4\n",
    "\n",
    "def get_statevector_matrix(result, nbqbits):\n",
    "    statevector_mat = np.zeros((2**nbqbits), np.complex128)\n",
    "    for sample in result:\n",
    "        statevector_mat[sample.state.int] = sample.amplitude\n",
    "    return statevector_mat\n",
    "\n",
    "def overlap(circ, def_stv):\n",
    "    qpu = get_default_qpu()\n",
    "    res = qpu.submit(circ.to_job())\n",
    "    statevector = get_statevector_matrix(res, nbqbits)\n",
    "    \n",
    "    # Check if the statevector is not None\n",
    "    if statevector is not None:\n",
    "        overlap_vals = abs(np.vdot(def_stv, statevector)) ** 2\n",
    "        return overlap_vals\n",
    "    else:\n",
    "        return None\n",
    "\n",
    "\n",
    "energy_lists = {f\"energy_circ_{i}\": {method: []} for i in range(len(circuits_store))}\n",
    "\n",
    "def opt_funct(circuits, model, qpu, nqbits, energy_lists, beta_small, beta_big, def_stv, def_stv_exci):\n",
    "    \n",
    "    def input_funct(x):\n",
    "        total_energy = 0\n",
    "        for i, circ in enumerate(circuits):\n",
    "            bound_circ = circ.bind_variables({k: v for k, v in zip(sorted(circ.get_variables()), x)})\n",
    "            job_exci_inp = bound_circ.to_job(job_type=\"OBS\", observable=model, nbshots=0)\n",
    "            result = qpu.submit(job_exci_inp)\n",
    "\n",
    "            \n",
    "            # Check if result.value is not None\n",
    "            if result.value is not None:\n",
    "                energy = result.value\n",
    "                energy_lists[f\"energy_circ_{i}\"][method].append(energy)\n",
    "                overlap_inp = overlap(bound_circ, def_stv)\n",
    "                overlap_inp_exci = overlap(bound_circ, def_stv_exci)\n",
    "                \n",
    "\n",
    "                # Check if overlap_inp is not None\n",
    "                if overlap_inp is not None and overlap_inp_exci is not None:\n",
    "                    total_energy = energy + beta_small * overlap_inp + beta_big * overlap_inp_exci\n",
    "\n",
    "        return total_energy\n",
    "    \n",
    "\n",
    "    def callback(x):\n",
    "        \n",
    "        for i, circ in enumerate(circuits):\n",
    "            bound_circ = circ.bind_variables({k: v for k, v in zip(sorted(circ.get_variables()), x)})\n",
    "            job_exci_inp = bound_circ.to_job(job_type=\"OBS\", observable=model, nbshots=0)\n",
    "            result = qpu.submit(job_exci_inp)\n",
    "\n",
    "            \n",
    "            # Check if result.value is not None\n",
    "            if result.value is not None:\n",
    "                energy = result.value\n",
    "                energy_lists[f\"energy_circ_{i}\"][method].append(energy)\n",
    "                overlap_inp = overlap(bound_circ, def_stv)\n",
    "                overlap_inp_exci = overlap(bound_circ, def_stv_exci)\n",
    "\n",
    "\n",
    "    return input_funct, callback\n",
    "    \n",
    "\n",
    "\n",
    "circuits = circuits_store\n",
    "\n",
    "\n",
    "\n",
    "input_funct, callback = opt_funct(circuits, model, qpu, nqbits, energy_lists, beta_small, beta_big,  def_stv, def_stv_exci)\n",
    "options = {\"disp\": True, \"maxiter\": 3500, \"gtol\": 1e-7}\n",
    "Optimizer = scipy.optimize.minimize(input_funct, x0=theta_0, method=method, callback=callback, options=options)\n",
    "\n",
    "print(Optimizer)"
   ]
  },
  {
   "cell_type": "code",
   "execution_count": 19,
   "metadata": {},
   "outputs": [],
   "source": [
    "#  Desired error not necessarily achieved due to precision loss."
   ]
  },
  {
   "cell_type": "code",
   "execution_count": 20,
   "metadata": {},
   "outputs": [
    {
     "name": "stdout",
     "output_type": "stream",
     "text": [
      "[ 0.00000000e+00+0.j  0.00000000e+00+0.j  0.00000000e+00+0.j\n",
      "  1.55658751e-07+0.j  0.00000000e+00+0.j  0.00000000e+00+0.j\n",
      "  0.00000000e+00+0.j  0.00000000e+00+0.j  0.00000000e+00+0.j\n",
      "  1.00000000e+00+0.j  0.00000000e+00+0.j  0.00000000e+00+0.j\n",
      " -1.29561915e-08+0.j  0.00000000e+00+0.j  0.00000000e+00+0.j\n",
      "  0.00000000e+00+0.j]\n"
     ]
    }
   ],
   "source": [
    "opt_circ_exci_t = circuits_store[0].bind_variables({k: v for k, v in zip(sorted(circuits_store[0].get_variables()), Optimizer.x)})\n",
    "\n",
    "\n",
    "result = qpu.submit(opt_circ_exci_t.to_job())\n",
    "nbqbits = model.nbqbits\n",
    "\n",
    "stv_exci_t = get_statevector(result, nbqbits)\n",
    "\n",
    "stv_exci_mat_t= get_statevector_matrix(result, nbqbits)\n",
    "print(stv_exci_mat_t)"
   ]
  },
  {
   "cell_type": "code",
   "execution_count": 21,
   "metadata": {},
   "outputs": [
    {
     "name": "stdout",
     "output_type": "stream",
     "text": [
      "+--------+------------------------------+\n",
      "| state  |          amplitude           |\n",
      "+--------+------------------------------+\n",
      "| |0011> | (1.5565875062320563e-07+0j)  |\n",
      "| |1001> |   (0.9999999999999848+0j)    |\n",
      "| |1100> | (-1.2956191529356339e-08+0j) |\n",
      "+--------+------------------------------+\n"
     ]
    }
   ],
   "source": [
    "#More style\n",
    "from tabulate import tabulate\n",
    "\n",
    "# Print the statevector nicely in columns\n",
    "print(tabulate(stv_exci_t, headers=\"keys\", tablefmt=\"pretty\"))"
   ]
  },
  {
   "cell_type": "code",
   "execution_count": 22,
   "metadata": {},
   "outputs": [
    {
     "name": "stdout",
     "output_type": "stream",
     "text": [
      "Optimization terminated successfully.\n",
      "         Current function value: 0.051271\n",
      "         Iterations: 14\n",
      "         Function evaluations: 68\n",
      "         Gradient evaluations: 17\n",
      "  message: Optimization terminated successfully.\n",
      "  success: True\n",
      "   status: 0\n",
      "      fun: 0.051270571387907464\n",
      "        x: [ 1.571e+00  4.712e+00  3.315e+00]\n",
      "      nit: 14\n",
      "      jac: [-4.657e-10  6.054e-09  1.304e-08]\n",
      " hess_inv: [[ 1.144e-02 -1.656e-05 -2.190e-05]\n",
      "            [-1.656e-05  9.181e-03  4.943e-06]\n",
      "            [-2.190e-05  4.943e-06  1.569e-02]]\n",
      "     nfev: 68\n",
      "     njev: 17\n"
     ]
    }
   ],
   "source": [
    "qpu = get_default_qpu()\n",
    "method = \"BFGS\"\n",
    "\n",
    "model = H_sp\n",
    "def_stv = stv_ground_mat\n",
    "def_stv_exci = stv_exci_mat\n",
    "def_stv_exci_t = stv_exci_mat_t\n",
    "\n",
    "beta_small = 33\n",
    "beta_big = 44\n",
    "beta_bigger = 55\n",
    "\n",
    "nqbits = 4\n",
    "\n",
    "def get_statevector_matrix(result, nbqbits):\n",
    "    statevector_mat = np.zeros((2**nbqbits), np.complex128)\n",
    "    for sample in result:\n",
    "        statevector_mat[sample.state.int] = sample.amplitude\n",
    "    return statevector_mat\n",
    "\n",
    "def overlap(circ, def_stv):\n",
    "    qpu = get_default_qpu()\n",
    "    res = qpu.submit(circ.to_job())\n",
    "    statevector = get_statevector_matrix(res, nbqbits)\n",
    "    \n",
    "    # Check if the statevector is not None\n",
    "    if statevector is not None:\n",
    "        overlap_vals = abs(np.vdot(def_stv, statevector)) ** 2\n",
    "        return overlap_vals\n",
    "    else:\n",
    "        return None\n",
    "\n",
    "\n",
    "energy_lists = {f\"energy_circ_{i}\": {method: []} for i in range(len(circuits_store))}\n",
    "\n",
    "def opt_funct(circuits, model, qpu, nqbits, energy_lists, beta_small, beta_big, beta_bigger, def_stv, def_stv_exci, def_stv_exci_t):\n",
    "    \n",
    "    def input_funct(x):\n",
    "        total_energy = 0\n",
    "        for i, circ in enumerate(circuits):\n",
    "            bound_circ = circ.bind_variables({k: v for k, v in zip(sorted(circ.get_variables()), x)})\n",
    "            job_exci_inp = bound_circ.to_job(job_type=\"OBS\", observable=model, nbshots=0)\n",
    "            result = qpu.submit(job_exci_inp)\n",
    "\n",
    "            \n",
    "            # Check if result.value is not None\n",
    "            if result.value is not None:\n",
    "                energy = result.value\n",
    "                energy_lists[f\"energy_circ_{i}\"][method].append(energy)\n",
    "                overlap_inp = overlap(bound_circ, def_stv)\n",
    "                overlap_inp_exci = overlap(bound_circ, def_stv_exci)\n",
    "                overlap_inp_exci_t = overlap(bound_circ, def_stv_exci_t)\n",
    "                \n",
    "\n",
    "                # Check if overlap_inp is not None\n",
    "                if overlap_inp is not None and overlap_inp_exci is not None:\n",
    "                    total_energy = energy + beta_small * overlap_inp + beta_big * overlap_inp_exci + beta_bigger * overlap_inp_exci_t\n",
    "\n",
    "        return total_energy\n",
    "    \n",
    "\n",
    "    def callback(x):\n",
    "        \n",
    "        for i, circ in enumerate(circuits):\n",
    "            bound_circ = circ.bind_variables({k: v for k, v in zip(sorted(circ.get_variables()), x)})\n",
    "            job_exci_inp = bound_circ.to_job(job_type=\"OBS\", observable=model, nbshots=0)\n",
    "            result = qpu.submit(job_exci_inp)\n",
    "\n",
    "            \n",
    "            # Check if result.value is not None\n",
    "            if result.value is not None:\n",
    "                energy = result.value\n",
    "                energy_lists[f\"energy_circ_{i}\"][method].append(energy)\n",
    "                overlap_inp = overlap(bound_circ, def_stv)\n",
    "                overlap_inp_exci = overlap(bound_circ, def_stv_exci)\n",
    "                overlap_inp_exci_t = overlap(bound_circ, def_stv_exci_t)\n",
    "\n",
    "\n",
    "    return input_funct, callback\n",
    "    \n",
    "\n",
    "\n",
    "circuits = circuits_store\n",
    "\n",
    "\n",
    "\n",
    "input_funct, callback = opt_funct(circuits, model, qpu, nqbits, energy_lists, beta_small, beta_big, beta_bigger, def_stv, def_stv_exci, def_stv_exci_t )\n",
    "options = {\"disp\": True, \"maxiter\": 3500, \"gtol\": 1e-7}\n",
    "Optimizer = scipy.optimize.minimize(input_funct, x0=theta_0, method=method, callback=callback, options=options)\n",
    "\n",
    "print(Optimizer)"
   ]
  },
  {
   "cell_type": "code",
   "execution_count": 23,
   "metadata": {},
   "outputs": [
    {
     "name": "stdout",
     "output_type": "stream",
     "text": [
      "[ 0.00000000e+00+0.j  0.00000000e+00+0.j  0.00000000e+00+0.j\n",
      "  9.85011271e-01+0.j  0.00000000e+00+0.j  0.00000000e+00+0.j\n",
      "  3.75807031e-07+0.j  0.00000000e+00+0.j  0.00000000e+00+0.j\n",
      " -1.58962321e-07+0.j  0.00000000e+00+0.j  0.00000000e+00+0.j\n",
      "  1.72489990e-01+0.j  0.00000000e+00+0.j  0.00000000e+00+0.j\n",
      "  0.00000000e+00+0.j]\n"
     ]
    }
   ],
   "source": [
    "opt_circ_exci_q = circuits_store[0].bind_variables({k: v for k, v in zip(sorted(circuits_store[0].get_variables()), Optimizer.x)})\n",
    "\n",
    "\n",
    "result = qpu.submit(opt_circ_exci_q.to_job())\n",
    "nbqbits = model.nbqbits\n",
    "\n",
    "stv_exci_q = get_statevector(result, nbqbits)\n",
    "\n",
    "stv_exci_mat_q= get_statevector_matrix(result, nbqbits)\n",
    "\n",
    "print(stv_exci_mat_q)"
   ]
  },
  {
   "cell_type": "code",
   "execution_count": 24,
   "metadata": {},
   "outputs": [
    {
     "name": "stdout",
     "output_type": "stream",
     "text": [
      "+--------+------------------------------+\n",
      "| state  |          amplitude           |\n",
      "+--------+------------------------------+\n",
      "| |0011> |   (0.9850112707316664+0j)    |\n",
      "| |0110> | (3.7580703063299164e-07+0j)  |\n",
      "| |1001> | (-1.5896232081415932e-07+0j) |\n",
      "| |1100> |   (0.17248998965567425+0j)   |\n",
      "+--------+------------------------------+\n"
     ]
    }
   ],
   "source": [
    "#More style\n",
    "from tabulate import tabulate\n",
    "\n",
    "# Print the statevector nicely in columns\n",
    "print(tabulate(stv_exci_q, headers=\"keys\", tablefmt=\"pretty\"))"
   ]
  },
  {
   "cell_type": "code",
   "execution_count": 25,
   "metadata": {},
   "outputs": [
    {
     "name": "stdout",
     "output_type": "stream",
     "text": [
      "         Current function value: 31.896752\n",
      "         Iterations: 17\n",
      "         Function evaluations: 112\n",
      "         Gradient evaluations: 28\n",
      "  message: Desired error not necessarily achieved due to precision loss.\n",
      "  success: False\n",
      "   status: 2\n",
      "      fun: 31.89675233877495\n",
      "        x: [ 3.142e+00  3.142e+00  3.315e+00]\n",
      "      nit: 17\n",
      "      jac: [ 3.576e-06 -7.153e-07  6.437e-06]\n",
      " hess_inv: [[ 7.905e-02 -1.580e-02 -2.370e-02]\n",
      "            [-1.580e-02  3.165e-03  4.747e-03]\n",
      "            [-2.370e-02  4.747e-03  7.121e-03]]\n",
      "     nfev: 112\n",
      "     njev: 28\n"
     ]
    },
    {
     "name": "stderr",
     "output_type": "stream",
     "text": [
      "/home/huybinh/.local/lib/python3.10/site-packages/scipy/optimize/_minimize.py:705: OptimizeWarning: Desired error not necessarily achieved due to precision loss.\n",
      "  res = _minimize_bfgs(fun, x0, args, jac, callback, **options)\n"
     ]
    }
   ],
   "source": [
    "qpu = get_default_qpu()\n",
    "method = \"BFGS\"\n",
    "\n",
    "model = H_sp\n",
    "def_stv = stv_ground_mat\n",
    "def_stv_exci = stv_exci_mat\n",
    "def_stv_exci_t = stv_exci_mat_t\n",
    "def_stv_exci_q = stv_exci_mat_q\n",
    "\n",
    "beta_small = 5\n",
    "beta_big = 4\n",
    "beta_bigger = 3\n",
    "beta_biggest = 2\n",
    "\n",
    "nqbits = 4\n",
    "\n",
    "def get_statevector_matrix(result, nbqbits):\n",
    "    statevector_mat = np.zeros((2**nbqbits), np.complex128)\n",
    "    for sample in result:\n",
    "        statevector_mat[sample.state.int] = sample.amplitude\n",
    "    return statevector_mat\n",
    "\n",
    "def overlap(circ, def_stv):\n",
    "    qpu = get_default_qpu()\n",
    "    res = qpu.submit(circ.to_job())\n",
    "    statevector = get_statevector_matrix(res, nbqbits)\n",
    "    \n",
    "    # Check if the statevector is not None\n",
    "    if statevector is not None:\n",
    "        overlap_vals = abs(np.vdot(def_stv, statevector)) ** 2\n",
    "        return overlap_vals\n",
    "    else:\n",
    "        return None\n",
    "\n",
    "\n",
    "energy_lists = {f\"energy_circ_{i}\": {method: []} for i in range(len(circuits_store))}\n",
    "\n",
    "def opt_funct(circuits, model, qpu, nqbits, energy_lists, beta_small, beta_big, beta_bigger, beta_biggest, def_stv, def_stv_exci, def_stv_exci_t, def_stv_exci_q):\n",
    "    \n",
    "    def input_funct(x):\n",
    "        total_energy = 0\n",
    "        for i, circ in enumerate(circuits):\n",
    "            bound_circ = circ.bind_variables({k: v for k, v in zip(sorted(circ.get_variables()), x)})\n",
    "            job_exci_inp = bound_circ.to_job(job_type=\"OBS\", observable=model, nbshots=0)\n",
    "            result = qpu.submit(job_exci_inp)\n",
    "\n",
    "            \n",
    "            # Check if result.value is not None\n",
    "            if result.value is not None:\n",
    "                energy = result.value\n",
    "                energy_lists[f\"energy_circ_{i}\"][method].append(energy)\n",
    "                overlap_inp = overlap(bound_circ, def_stv)\n",
    "                overlap_inp_exci = overlap(bound_circ, def_stv_exci)\n",
    "                overlap_inp_exci_t = overlap(bound_circ, def_stv_exci_t)\n",
    "                overlap_inp_exci_q = overlap(bound_circ, def_stv_exci_q)\n",
    "                \n",
    "\n",
    "                # Check if overlap_inp is not None\n",
    "                if overlap_inp is not None and overlap_inp_exci is not None:\n",
    "                    total_energy = energy + beta_small * overlap_inp + beta_big * overlap_inp_exci + beta_bigger * overlap_inp_exci_t + beta_biggest * overlap_inp_exci_q\n",
    "\n",
    "        return total_energy\n",
    "    \n",
    "\n",
    "    def callback(x):\n",
    "        \n",
    "        for i, circ in enumerate(circuits):\n",
    "            bound_circ = circ.bind_variables({k: v for k, v in zip(sorted(circ.get_variables()), x)})\n",
    "            job_exci_inp = bound_circ.to_job(job_type=\"OBS\", observable=model, nbshots=0)\n",
    "            result = qpu.submit(job_exci_inp)\n",
    "\n",
    "            \n",
    "            # Check if result.value is not None\n",
    "            if result.value is not None:\n",
    "                energy = result.value\n",
    "                energy_lists[f\"energy_circ_{i}\"][method].append(energy)\n",
    "                overlap_inp = overlap(bound_circ, def_stv)\n",
    "                overlap_inp_exci = overlap(bound_circ, def_stv_exci)\n",
    "                overlap_inp_exci_t = overlap(bound_circ, def_stv_exci_t)\n",
    "                overlap_inp_exci_q = overlap(bound_circ, def_stv_exci_q)\n",
    "\n",
    "\n",
    "    return input_funct, callback\n",
    "    \n",
    "\n",
    "\n",
    "circuits = circuits_store\n",
    "\n",
    "\n",
    "\n",
    "input_funct, callback = opt_funct(circuits, model, qpu, nqbits, energy_lists, beta_small, beta_big, beta_bigger, beta_biggest, def_stv, def_stv_exci, def_stv_exci_t, def_stv_exci_q)\n",
    "options = {\"disp\": True, \"maxiter\": 3500, \"gtol\": 1e-7}\n",
    "Optimizer = scipy.optimize.minimize(input_funct, x0=theta_0, method=method, callback=callback, options=options)\n",
    "\n",
    "print(Optimizer)"
   ]
  },
  {
   "cell_type": "code",
   "execution_count": 26,
   "metadata": {},
   "outputs": [
    {
     "name": "stdout",
     "output_type": "stream",
     "text": [
      "[ 0.00000000e+00+0.j  0.00000000e+00+0.j  0.00000000e+00+0.j\n",
      "  1.72489983e-01+0.j  0.00000000e+00+0.j  0.00000000e+00+0.j\n",
      "  3.24442883e-08+0.j  0.00000000e+00+0.j  0.00000000e+00+0.j\n",
      " -4.80357977e-08+0.j  0.00000000e+00+0.j  0.00000000e+00+0.j\n",
      " -9.85011272e-01+0.j  0.00000000e+00+0.j  0.00000000e+00+0.j\n",
      "  0.00000000e+00+0.j]\n"
     ]
    }
   ],
   "source": [
    "opt_circ_exci_k= circuits_store[0].bind_variables({k: v for k, v in zip(sorted(circuits_store[0].get_variables()), Optimizer.x)})\n",
    "\n",
    "\n",
    "result = qpu.submit(opt_circ_exci_k.to_job())\n",
    "nbqbits = model.nbqbits\n",
    "\n",
    "stv_exci_k = get_statevector(result, nbqbits)\n",
    "\n",
    "stv_exci_mat_k= get_statevector_matrix(result, nbqbits)\n",
    "\n",
    "print(stv_exci_mat_k)"
   ]
  },
  {
   "cell_type": "code",
   "execution_count": 27,
   "metadata": {},
   "outputs": [
    {
     "name": "stdout",
     "output_type": "stream",
     "text": [
      "+--------+------------------------------+\n",
      "| state  |          amplitude           |\n",
      "+--------+------------------------------+\n",
      "| |0011> |   (0.1724899832463323+0j)    |\n",
      "| |0110> |  (3.244428827471784e-08+0j)  |\n",
      "| |1001> | (-4.8035797671378046e-08+0j) |\n",
      "| |1100> |   (-0.9850112718541179+0j)   |\n",
      "+--------+------------------------------+\n"
     ]
    }
   ],
   "source": [
    "#More style\n",
    "from tabulate import tabulate\n",
    "\n",
    "# Print the statevector nicely in columns\n",
    "print(tabulate(stv_exci_k, headers=\"keys\", tablefmt=\"pretty\"))"
   ]
  },
  {
   "cell_type": "code",
   "execution_count": 28,
   "metadata": {},
   "outputs": [
    {
     "name": "stdout",
     "output_type": "stream",
     "text": [
      "         Current function value: 43.455783\n",
      "         Iterations: 10\n",
      "         Function evaluations: 196\n",
      "         Gradient evaluations: 46\n",
      "  message: Desired error not necessarily achieved due to precision loss.\n",
      "  success: False\n",
      "   status: 2\n",
      "      fun: 43.455783121753534\n",
      "        x: [ 3.142e+00  4.712e+00  4.382e+00]\n",
      "      nit: 10\n",
      "      jac: [ 2.384e-06  3.815e-06  6.199e-06]\n",
      " hess_inv: [[ 1.075e-02  2.155e-02 -3.363e-02]\n",
      "            [ 2.155e-02  7.943e-02 -1.127e-01]\n",
      "            [-3.363e-02 -1.127e-01  1.618e-01]]\n",
      "     nfev: 196\n",
      "     njev: 46\n"
     ]
    },
    {
     "name": "stderr",
     "output_type": "stream",
     "text": [
      "/home/huybinh/.local/lib/python3.10/site-packages/scipy/optimize/_minimize.py:705: OptimizeWarning: Desired error not necessarily achieved due to precision loss.\n",
      "  res = _minimize_bfgs(fun, x0, args, jac, callback, **options)\n"
     ]
    }
   ],
   "source": [
    "qpu = get_default_qpu()\n",
    "method = \"BFGS\"\n",
    "\n",
    "model = H_sp\n",
    "def_stv = stv_ground_mat\n",
    "def_stv_exci = stv_exci_mat\n",
    "def_stv_exci_t = stv_exci_mat_t\n",
    "def_stv_exci_q = stv_exci_mat_q\n",
    "def_stv_exci_k = stv_exci_mat_k\n",
    "\n",
    "\n",
    "beta_small = 33\n",
    "beta_big = 44\n",
    "beta_bigger = 55\n",
    "beta_biggest = 66\n",
    "beta_huge = 77\n",
    "\n",
    "nqbits = 4\n",
    "\n",
    "def get_statevector_matrix(result, nbqbits):\n",
    "    statevector_mat = np.zeros((2**nbqbits), np.complex128)\n",
    "    for sample in result:\n",
    "        statevector_mat[sample.state.int] = sample.amplitude\n",
    "    return statevector_mat\n",
    "\n",
    "def overlap(circ, def_stv):\n",
    "    qpu = get_default_qpu()\n",
    "    res = qpu.submit(circ.to_job())\n",
    "    statevector = get_statevector_matrix(res, nbqbits)\n",
    "    \n",
    "    # Check if the statevector is not None\n",
    "    if statevector is not None:\n",
    "        overlap_vals = abs(np.vdot(def_stv, statevector)) ** 2\n",
    "        return overlap_vals\n",
    "    else:\n",
    "        return None\n",
    "\n",
    "\n",
    "energy_lists = {f\"energy_circ_{i}\": {method: []} for i in range(len(circuits_store))}\n",
    "\n",
    "def opt_funct(circuits, model, qpu, nqbits, energy_lists, beta_small, beta_big, beta_bigger, beta_biggest, beta_huge, def_stv, def_stv_exci, def_stv_exci_t, def_stv_exci_q, def_stv_exci_k):\n",
    "    \n",
    "    def input_funct(x):\n",
    "        total_energy = 0\n",
    "        for i, circ in enumerate(circuits):\n",
    "            bound_circ = circ.bind_variables({k: v for k, v in zip(sorted(circ.get_variables()), x)})\n",
    "            job_exci_inp = bound_circ.to_job(job_type=\"OBS\", observable=model, nbshots=0)\n",
    "            result = qpu.submit(job_exci_inp)\n",
    "\n",
    "            \n",
    "            # Check if result.value is not None\n",
    "            if result.value is not None:\n",
    "                energy = result.value\n",
    "                energy_lists[f\"energy_circ_{i}\"][method].append(energy)\n",
    "                overlap_inp = overlap(bound_circ, def_stv)\n",
    "                overlap_inp_exci = overlap(bound_circ, def_stv_exci)\n",
    "                overlap_inp_exci_t = overlap(bound_circ, def_stv_exci_t)\n",
    "                overlap_inp_exci_q = overlap(bound_circ, def_stv_exci_q)\n",
    "                overlap_inp_exci_k = overlap(bound_circ, def_stv_exci_k)\n",
    "                \n",
    "\n",
    "                # Check if overlap_inp is not None\n",
    "                if overlap_inp is not None and overlap_inp_exci is not None:\n",
    "                    total_energy = energy + beta_small * overlap_inp + beta_big * overlap_inp_exci + beta_bigger * overlap_inp_exci_t + beta_biggest * overlap_inp_exci_q + beta_huge * overlap_inp_exci_k\n",
    "\n",
    "        return total_energy\n",
    "    \n",
    "\n",
    "    def callback(x):\n",
    "        \n",
    "        for i, circ in enumerate(circuits):\n",
    "            bound_circ = circ.bind_variables({k: v for k, v in zip(sorted(circ.get_variables()), x)})\n",
    "            job_exci_inp = bound_circ.to_job(job_type=\"OBS\", observable=model, nbshots=0)\n",
    "            result = qpu.submit(job_exci_inp)\n",
    "\n",
    "            \n",
    "            # Check if result.value is not None\n",
    "            if result.value is not None:\n",
    "                energy = result.value\n",
    "                energy_lists[f\"energy_circ_{i}\"][method].append(energy)\n",
    "                overlap_inp = overlap(bound_circ, def_stv)\n",
    "                overlap_inp_exci = overlap(bound_circ, def_stv_exci)\n",
    "                overlap_inp_exci_t = overlap(bound_circ, def_stv_exci_t)\n",
    "                overlap_inp_exci_q = overlap(bound_circ, def_stv_exci_q)\n",
    "                overlap_inp_exci_k = overlap(bound_circ, def_stv_exci_k)\n",
    "\n",
    "\n",
    "    return input_funct, callback\n",
    "    \n",
    "\n",
    "\n",
    "circuits = circuits_store\n",
    "\n",
    "\n",
    "\n",
    "input_funct, callback = opt_funct(circuits, model, qpu, nqbits, energy_lists, beta_small, beta_big, beta_bigger, beta_biggest, beta_huge, def_stv, def_stv_exci, def_stv_exci_t, def_stv_exci_q, def_stv_exci_k)\n",
    "options = {\"disp\": True, \"maxiter\": 3500, \"gtol\": 1e-7}\n",
    "Optimizer = scipy.optimize.minimize(input_funct, x0=theta_0, method=method, callback=callback, options=options)\n",
    "\n",
    "print(Optimizer)"
   ]
  },
  {
   "cell_type": "code",
   "execution_count": 29,
   "metadata": {},
   "outputs": [
    {
     "name": "stdout",
     "output_type": "stream",
     "text": [
      "[ 0.00000000e+00+0.j  0.00000000e+00+0.j  0.00000000e+00+0.j\n",
      "  3.87885120e-07+0.j  0.00000000e+00+0.j  0.00000000e+00+0.j\n",
      " -1.00000000e+00+0.j  0.00000000e+00+0.j  0.00000000e+00+0.j\n",
      "  0.00000000e+00+0.j  0.00000000e+00+0.j  0.00000000e+00+0.j\n",
      "  3.72939822e-08+0.j  0.00000000e+00+0.j  0.00000000e+00+0.j\n",
      "  0.00000000e+00+0.j]\n"
     ]
    }
   ],
   "source": [
    "opt_circ_exci_s= circuits_store[0].bind_variables({k: v for k, v in zip(sorted(circuits_store[0].get_variables()), Optimizer.x)})\n",
    "\n",
    "\n",
    "result = qpu.submit(opt_circ_exci_s.to_job())\n",
    "nbqbits = model.nbqbits\n",
    "\n",
    "stv_exci_s = get_statevector(result, nbqbits)\n",
    "\n",
    "stv_exci_mat_s= get_statevector_matrix(result, nbqbits)\n",
    "\n",
    "print(stv_exci_mat_s)"
   ]
  },
  {
   "cell_type": "code",
   "execution_count": 30,
   "metadata": {},
   "outputs": [
    {
     "name": "stdout",
     "output_type": "stream",
     "text": [
      "+--------+----------------------------+\n",
      "| state  |         amplitude          |\n",
      "+--------+----------------------------+\n",
      "| |0011> | (3.878851196625898e-07+0j) |\n",
      "| |0110> |  (-0.9999999999999194+0j)  |\n",
      "| |1100> | (3.729398220689955e-08+0j) |\n",
      "+--------+----------------------------+\n"
     ]
    }
   ],
   "source": [
    "#More style\n",
    "from tabulate import tabulate\n",
    "\n",
    "# Print the statevector nicely in columns\n",
    "print(tabulate(stv_exci_s, headers=\"keys\", tablefmt=\"pretty\"))"
   ]
  }
 ],
 "metadata": {
  "kernelspec": {
   "display_name": "Python 3",
   "language": "python",
   "name": "python3"
  },
  "language_info": {
   "codemirror_mode": {
    "name": "ipython",
    "version": 3
   },
   "file_extension": ".py",
   "mimetype": "text/x-python",
   "name": "python",
   "nbconvert_exporter": "python",
   "pygments_lexer": "ipython3",
   "version": "3.10.12"
  }
 },
 "nbformat": 4,
 "nbformat_minor": 2
}
