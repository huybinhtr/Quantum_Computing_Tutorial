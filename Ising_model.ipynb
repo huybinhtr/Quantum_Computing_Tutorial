{
 "cells": [
  {
   "cell_type": "markdown",
   "metadata": {},
   "source": [
    "### Phase 1: Ising Model\n",
    "\n",
    "$$H = \\sum_{i=1}^{N} a_i X_i + \\sum_{i=1}^{N} \\sum_{j=1}^{i-1} J_{ij} Z_i Z_j\n",
    "$$"
   ]
  },
  {
   "cell_type": "code",
   "execution_count": null,
   "metadata": {},
   "outputs": [],
   "source": [
    "import numpy as np\n",
    "from qat.core import Observable, Term\n",
    "\n",
    "def ising(N):\n",
    "    np.random.seed(123)  \n",
    "\n",
    "    terms = []\n",
    "\n",
    "    # Generate random coefficients for the transverse field term (X)\n",
    "    a_coefficients = np.random.random(N)\n",
    "    for i in range(N):\n",
    "        term = Term(coefficient=a_coefficients[i], pauli_op=\"X\", qbits=[i])\n",
    "        terms.append(term)\n",
    "\n",
    "    # Generate random coefficients for the interaction term (ZZ)\n",
    "    J_coefficients = np.random.random((N, N))\n",
    "    for i in range(N):\n",
    "        for j in range(i):\n",
    "            if i != j:  # avoid duplicate terms\n",
    "                term = Term(coefficient=J_coefficients[i, j], pauli_op=\"ZZ\", qbits=[i, j])\n",
    "                terms.append(term)\n",
    "    ising = Observable(N, pauli_terms=terms, constant_coeff=0.0)\n",
    "    return ising"
   ]
  },
  {
   "cell_type": "code",
   "execution_count": null,
   "metadata": {},
   "outputs": [],
   "source": [
    "model = ising(4) \n",
    "print(\"Transverse Ising Model:\", model)"
   ]
  },
  {
   "cell_type": "code",
   "execution_count": null,
   "metadata": {},
   "outputs": [],
   "source": [
    "print(model.nbqbits)"
   ]
  },
  {
   "cell_type": "code",
   "execution_count": null,
   "metadata": {},
   "outputs": [],
   "source": [
    "print(model.to_matrix)"
   ]
  },
  {
   "cell_type": "markdown",
   "metadata": {},
   "source": [
    "Based on the other result of initial state that has been choosen for the ising model creat the ansazt that apply the value k for two case where it generate the value 0010 and 0011 "
   ]
  },
  {
   "cell_type": "code",
   "execution_count": null,
   "metadata": {},
   "outputs": [],
   "source": [
    "from numpy import binary_repr\n",
    "from qat.lang import Program, X\n",
    "from qat.qpus import get_default_qpu\n",
    "from qat.plugins import ScipyMinimizePlugin\n",
    "import scipy.optimize"
   ]
  },
  {
   "cell_type": "code",
   "execution_count": null,
   "metadata": {},
   "outputs": [],
   "source": [
    "from qat.lang.AQASM import Program, QRoutine, RY, CNOT, RX, Z, H, RZ, I\n",
    "from qat.core import Observable, Term, Circuit\n",
    "from qat.lang.AQASM.gates import Gate\n",
    "import matplotlib as mpl\n",
    "import numpy as np\n",
    "from typing import Optional, List\n",
    "import warnings\n"
   ]
  },
  {
   "cell_type": "code",
   "execution_count": null,
   "metadata": {},
   "outputs": [],
   "source": [
    "def HEA_slow(\n",
    "    nqbits: int,\n",
    "    theta: List[float],\n",
    "    k: int,\n",
    "    n_cycles: int = 1,\n",
    "    rotation_gates: List[Gate] = None,\n",
    "    entangling_gate: Gate = CNOT,\n",
    "    \n",
    ") -> Circuit: #linear entanglement\n",
    "    \"\"\"\n",
    "    This Hardware Efficient Ansatz has the reference from \"Nonia Vaquero Sabater et al. Simulating molecules \n",
    "    with variational quantum eigensolvers. 2022\" -Figure 6 -Link \n",
    "    \"https://uvadoc.uva.es/bitstream/handle/10324/57885/TFM-G1748.pdf?sequence=1\"\n",
    "\n",
    "    Args:\n",
    "        nqbits (int): Number of qubits of the circuit.\n",
    "        n_cycles (int): Number of layers.\n",
    "        rotation_gates (List[Gate]): Parametrized rotation gates to include around the entangling gate. Defaults to :math:`RY`. Must\n",
    "            be of arity 1.\n",
    "        entangling_gate (Gate): The 2-qubit entangler. Must be of arity 2. Defaults to :math:`CNOT`.\n",
    "    \"\"\"\n",
    "\n",
    "    if rotation_gates is None:\n",
    "        rotation_gates = [RZ]\n",
    "\n",
    "    n_rotations = len(rotation_gates)\n",
    "\n",
    "    prog = Program()\n",
    "    reg = prog.qalloc(nqbits)\n",
    "    theta = [prog.new_var(float, rf\"\\theta_{{{i}}}\") for i in range(n_rotations * (nqbits + 2 * (nqbits - 1) * n_cycles))]\n",
    "    # the angle parameters were randomly sampled from as index variable\n",
    "    #theta = [np.random.uniform(0, 2*np.pi) for i in range(n_rotations * (nqbits + 2 * (nqbits - 1) * n_cycles))]\n",
    "    print(\"Hello\")\n",
    "    ind_theta = 0\n",
    "\n",
    "    ket_value = binary_repr(k)\n",
    "    padded_ket_value = ket_value.zfill(nqbits)\n",
    "    list_ket_value = [int(c) for c in padded_ket_value]\n",
    "\n",
    "        # Apply X gates based on the binary representation of the current value\n",
    "    for j in range(min(nqbits, len(list_ket_value))):\n",
    "        if list_ket_value[j] == 1:\n",
    "            prog.apply(X, reg[j])\n",
    "        if list_ket_value[j] == 0:\n",
    "            prog.apply(I, reg[j])\n",
    "\n",
    "    \n",
    "    for i in range(nqbits):\n",
    "\n",
    "        for rot in rotation_gates:\n",
    "\n",
    "            prog.apply(rot(theta[ind_theta]), reg[i])\n",
    "            ind_theta += 1\n",
    "    \n",
    "    for k in range(n_cycles):\n",
    "\n",
    "\n",
    "        for i in range(nqbits - 1):\n",
    "            prog.apply(CNOT, reg[i], reg[i+1])\n",
    "            \n",
    "        for i in range(nqbits):\n",
    "            for rot in rotation_gates:\n",
    "                            \n",
    "                prog.apply(rot(theta[ind_theta]), reg[i])\n",
    "                ind_theta += 1\n",
    "\n",
    "    return prog.to_circ()"
   ]
  },
  {
   "cell_type": "code",
   "execution_count": null,
   "metadata": {},
   "outputs": [],
   "source": [
    "theta_0 = np.random.random(size=model.nbqbits * 2)\n",
    "\n",
    "\n"
   ]
  },
  {
   "cell_type": "code",
   "execution_count": null,
   "metadata": {},
   "outputs": [],
   "source": [
    "from numpy import binary_repr\n",
    "from qat.lang import Program, X\n",
    "from qat.qpus import get_default_qpu\n",
    "from qat.plugins import ScipyMinimizePlugin\n",
    "import scipy.optimize\n",
    "from qat.qpus import get_default_qpu\n",
    "from qat.plugins import ScipyMinimizePlugin"
   ]
  },
  {
   "cell_type": "code",
   "execution_count": null,
   "metadata": {},
   "outputs": [],
   "source": [
    "import matplotlib.pyplot as plt\n",
    "import numpy as np\n",
    "from itertools import product\n",
    "\n",
    "from qat.qpus import get_default_qpu\n",
    "from qat.core import Batch, Job\n",
    "\n",
    "from qat.fermion.transforms import transform_to_jw_basis\n",
    "from qat.fermion.hamiltonians import make_embedded_model\n",
    "from qat.fermion.circuits import make_shallow_circ, make_ldca_circ\n",
    "\n",
    "from qat.fermion.chemistry.pyscf_tools import perform_pyscf_computation\n",
    "from qat.fermion.chemistry import MolecularHamiltonian, MoleculeInfo\n",
    "from qat.fermion.trotterisation import make_trotterisation_routine\n",
    "from qat.fermion.chemistry.ucc import construct_ucc_ansatz, guess_init_params, get_hf_ket, get_cluster_ops\n",
    "from qat.qpus import get_default_qpu\n",
    "\n",
    "from qat.plugins import ScipyMinimizePlugin, MultipleLaunchesAnalyzer"
   ]
  },
  {
   "cell_type": "code",
   "execution_count": null,
   "metadata": {},
   "outputs": [],
   "source": [
    "import scipy.optimize\n"
   ]
  },
  {
   "cell_type": "code",
   "execution_count": null,
   "metadata": {},
   "outputs": [],
   "source": [
    "def energy_Linear_theta_s(nqbits,theta, k, n_cycles, rotational_gate, entangling_gate):\n",
    "    print(\"Hello\")\n",
    "    circ_Linear_s = HEA_slow(model.nbqbits,theta, k, n_cycles, [RX,RZ], CNOT)\n",
    "    print(\"Hello\")\n",
    "    jobE_s = circ_Linear_s.to_job(job_type=\"OBS\",observable=model)\n",
    "    qpu = get_default_qpu()\n",
    "    resE_s = qpu.submit(jobE_s)\n",
    "    energy_Linear_theta_s = resE_s.value\n",
    "    print(\"Energy value for this iterative is\", energy_Linear_theta_s)\n",
    "\n",
    "    return energy_Linear_theta_s"
   ]
  },
  {
   "cell_type": "code",
   "execution_count": null,
   "metadata": {},
   "outputs": [],
   "source": [
    "theta_0 = np.random.random(size=model.nbqbits * 2)\n",
    "nbqbits =4\n",
    "energy_Linear_theta_s(nbqbits,theta, 0, 3, [RX,RZ], CNOT),\n",
    "\n",
    "opt_result_Linear_s = scipy.optimize.minimize(\n",
    "            lambda theta: energy_Linear_theta_s(nbqbits,theta, 0, 3, [RX,RZ], CNOT),\n",
    "            x0= theta_0,\n",
    "            method= \"SLSQP\",\n",
    "            tol=1e-2,\n",
    "            options={\"maxiter\": 10, \"disp\": True})\n",
    "print(opt_result_Linear_s)"
   ]
  },
  {
   "cell_type": "code",
   "execution_count": null,
   "metadata": {},
   "outputs": [],
   "source": []
  }
 ],
 "metadata": {
  "kernelspec": {
   "display_name": "Python 3",
   "language": "python",
   "name": "python3"
  },
  "language_info": {
   "codemirror_mode": {
    "name": "ipython",
    "version": 3
   },
   "file_extension": ".py",
   "mimetype": "text/x-python",
   "name": "python",
   "nbconvert_exporter": "python",
   "pygments_lexer": "ipython3",
   "version": "3.10.12"
  }
 },
 "nbformat": 4,
 "nbformat_minor": 2
}
